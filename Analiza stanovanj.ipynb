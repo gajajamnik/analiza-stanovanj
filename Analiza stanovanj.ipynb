{
 "cells": [
  {
   "cell_type": "markdown",
   "metadata": {},
   "source": [
    "# Analiza stanovanj\n",
    "V tej datoteki je analiza podatkov..."
   ]
  },
  {
   "cell_type": "markdown",
   "metadata": {},
   "source": [
    "## Hipoteze\n",
    "* Najdrazja najmenina na kvadraturo je ob morju, takoj za tem pa ji sledi Ljubljana.\n",
    "* Velikost stanovanja (stevilo sob) ima vecji pomen za ceno kot kvadratura\n",
    "* V kateri regiji je največ aktivnih oglasov in v kateri regiji oddajajo novejša stanovanja(po letu 2010)\n",
    "* Ali so stanovanja označena kot primerna za študente dražja v primerjavi z ostalimi? Ali spadajo ta stanovanja med straejša? (hipoteza: da)"
   ]
  },
  {
   "cell_type": "code",
   "execution_count": 1,
   "metadata": {},
   "outputs": [],
   "source": [
    "import pandas as pd"
   ]
  },
  {
   "cell_type": "code",
   "execution_count": 2,
   "metadata": {},
   "outputs": [],
   "source": [
    "Stanovanja = pd.read_csv(\"obdelani-podatki\\podatki.csv\", index_col='id')"
   ]
  },
  {
   "cell_type": "code",
   "execution_count": 3,
   "metadata": {},
   "outputs": [
    {
     "data": {
      "text/html": [
       "<div>\n",
       "<style scoped>\n",
       "    .dataframe tbody tr th:only-of-type {\n",
       "        vertical-align: middle;\n",
       "    }\n",
       "\n",
       "    .dataframe tbody tr th {\n",
       "        vertical-align: top;\n",
       "    }\n",
       "\n",
       "    .dataframe thead th {\n",
       "        text-align: right;\n",
       "    }\n",
       "</style>\n",
       "<table border=\"1\" class=\"dataframe\">\n",
       "  <thead>\n",
       "    <tr style=\"text-align: right;\">\n",
       "      <th></th>\n",
       "      <th>kvadratura</th>\n",
       "      <th>tip</th>\n",
       "      <th>leto</th>\n",
       "      <th>cena</th>\n",
       "      <th>regija</th>\n",
       "      <th>upravna</th>\n",
       "      <th>obcina</th>\n",
       "    </tr>\n",
       "    <tr>\n",
       "      <th>id</th>\n",
       "      <th></th>\n",
       "      <th></th>\n",
       "      <th></th>\n",
       "      <th></th>\n",
       "      <th></th>\n",
       "      <th></th>\n",
       "      <th></th>\n",
       "    </tr>\n",
       "  </thead>\n",
       "  <tbody>\n",
       "    <tr>\n",
       "      <th>5332996</th>\n",
       "      <td>50.0</td>\n",
       "      <td>3-sobno</td>\n",
       "      <td>2015</td>\n",
       "      <td>95.0</td>\n",
       "      <td>Istrska</td>\n",
       "      <td>VSE</td>\n",
       "      <td>Novigrad (Istra)</td>\n",
       "    </tr>\n",
       "    <tr>\n",
       "      <th>5568627</th>\n",
       "      <td>15.0</td>\n",
       "      <td>soba</td>\n",
       "      <td>2010</td>\n",
       "      <td>250.0</td>\n",
       "      <td>Koroška</td>\n",
       "      <td>Slovenj Gradec</td>\n",
       "      <td>Slovenj Gradec</td>\n",
       "    </tr>\n",
       "    <tr>\n",
       "      <th>5625423</th>\n",
       "      <td>70.0</td>\n",
       "      <td>apartma</td>\n",
       "      <td>2012</td>\n",
       "      <td>80.0</td>\n",
       "      <td>J. Primorska</td>\n",
       "      <td>Izola</td>\n",
       "      <td>Izola</td>\n",
       "    </tr>\n",
       "    <tr>\n",
       "      <th>5649165</th>\n",
       "      <td>18.0</td>\n",
       "      <td>garsonjera</td>\n",
       "      <td>2012</td>\n",
       "      <td>350.0</td>\n",
       "      <td>J. Primorska</td>\n",
       "      <td>Piran</td>\n",
       "      <td>Piran</td>\n",
       "    </tr>\n",
       "    <tr>\n",
       "      <th>5684479</th>\n",
       "      <td>126.0</td>\n",
       "      <td>3-sobno</td>\n",
       "      <td>1933</td>\n",
       "      <td>1100.0</td>\n",
       "      <td>LJ-mesto</td>\n",
       "      <td>Lj. Center</td>\n",
       "      <td>Ljubljana</td>\n",
       "    </tr>\n",
       "    <tr>\n",
       "      <th>...</th>\n",
       "      <td>...</td>\n",
       "      <td>...</td>\n",
       "      <td>...</td>\n",
       "      <td>...</td>\n",
       "      <td>...</td>\n",
       "      <td>...</td>\n",
       "      <td>...</td>\n",
       "    </tr>\n",
       "    <tr>\n",
       "      <th>6374194</th>\n",
       "      <td>62.6</td>\n",
       "      <td>2-sobno</td>\n",
       "      <td>2019</td>\n",
       "      <td>800.0</td>\n",
       "      <td>LJ-mesto</td>\n",
       "      <td>Lj. Center</td>\n",
       "      <td>Ljubljana</td>\n",
       "    </tr>\n",
       "    <tr>\n",
       "      <th>6374195</th>\n",
       "      <td>54.0</td>\n",
       "      <td>1,5-sobno</td>\n",
       "      <td>2019</td>\n",
       "      <td>700.0</td>\n",
       "      <td>LJ-mesto</td>\n",
       "      <td>Lj. Vič-Rudnik</td>\n",
       "      <td>Ljubljana</td>\n",
       "    </tr>\n",
       "    <tr>\n",
       "      <th>6374204</th>\n",
       "      <td>76.0</td>\n",
       "      <td>3-sobno</td>\n",
       "      <td>2018</td>\n",
       "      <td>950.0</td>\n",
       "      <td>LJ-mesto</td>\n",
       "      <td>Lj. Bežigrad</td>\n",
       "      <td>Ljubljana</td>\n",
       "    </tr>\n",
       "    <tr>\n",
       "      <th>6374205</th>\n",
       "      <td>52.0</td>\n",
       "      <td>3-sobno</td>\n",
       "      <td>2012</td>\n",
       "      <td>12.0</td>\n",
       "      <td>LJ-mesto</td>\n",
       "      <td>Lj. Center</td>\n",
       "      <td>Ljubljana</td>\n",
       "    </tr>\n",
       "    <tr>\n",
       "      <th>6374208</th>\n",
       "      <td>41.0</td>\n",
       "      <td>1,5-sobno</td>\n",
       "      <td>2000</td>\n",
       "      <td>450.0</td>\n",
       "      <td>LJ-mesto</td>\n",
       "      <td>Lj. Vič-Rudnik</td>\n",
       "      <td>Ljubljana</td>\n",
       "    </tr>\n",
       "  </tbody>\n",
       "</table>\n",
       "<p>1710 rows × 7 columns</p>\n",
       "</div>"
      ],
      "text/plain": [
       "         kvadratura         tip  leto    cena        regija          upravna  \\\n",
       "id                                                                             \n",
       "5332996        50.0     3-sobno  2015    95.0       Istrska              VSE   \n",
       "5568627        15.0        soba  2010   250.0       Koroška   Slovenj Gradec   \n",
       "5625423        70.0     apartma  2012    80.0  J. Primorska            Izola   \n",
       "5649165        18.0  garsonjera  2012   350.0  J. Primorska            Piran   \n",
       "5684479       126.0     3-sobno  1933  1100.0      LJ-mesto       Lj. Center   \n",
       "...             ...         ...   ...     ...           ...              ...   \n",
       "6374194        62.6     2-sobno  2019   800.0      LJ-mesto       Lj. Center   \n",
       "6374195        54.0   1,5-sobno  2019   700.0      LJ-mesto   Lj. Vič-Rudnik   \n",
       "6374204        76.0     3-sobno  2018   950.0      LJ-mesto     Lj. Bežigrad   \n",
       "6374205        52.0     3-sobno  2012    12.0      LJ-mesto       Lj. Center   \n",
       "6374208        41.0   1,5-sobno  2000   450.0      LJ-mesto   Lj. Vič-Rudnik   \n",
       "\n",
       "                   obcina  \n",
       "id                         \n",
       "5332996  Novigrad (Istra)  \n",
       "5568627    Slovenj Gradec  \n",
       "5625423             Izola  \n",
       "5649165             Piran  \n",
       "5684479         Ljubljana  \n",
       "...                   ...  \n",
       "6374194         Ljubljana  \n",
       "6374195         Ljubljana  \n",
       "6374204         Ljubljana  \n",
       "6374205         Ljubljana  \n",
       "6374208         Ljubljana  \n",
       "\n",
       "[1710 rows x 7 columns]"
      ]
     },
     "execution_count": 3,
     "metadata": {},
     "output_type": "execute_result"
    }
   ],
   "source": [
    "Stanovanja"
   ]
  },
  {
   "cell_type": "code",
   "execution_count": 4,
   "metadata": {},
   "outputs": [],
   "source": [
    "slo_stanovanja = Stanovanja[(Stanovanja.regija != 'Šibeniško-kninska') & (Stanovanja.regija != 'Istrska') & (Stanovanja.regija != 'Primorsko-goranska')]"
   ]
  },
  {
   "cell_type": "markdown",
   "metadata": {},
   "source": [
    "### Mesečna najmenina na $m^2$ po regijah"
   ]
  },
  {
   "cell_type": "markdown",
   "metadata": {},
   "source": [
    "Za začetek si poglejmo kakšna je povprečna mesečna najemnina stanovanja."
   ]
  },
  {
   "cell_type": "code",
   "execution_count": 5,
   "metadata": {},
   "outputs": [
    {
     "data": {
      "text/plain": [
       "719.0"
      ]
     },
     "execution_count": 5,
     "metadata": {},
     "output_type": "execute_result"
    }
   ],
   "source": [
    "sum(slo_stanovanja.cena) // 1710"
   ]
  },
  {
   "cell_type": "markdown",
   "metadata": {},
   "source": [
    "Naprej si oglejmo prvih 5 najvišjih najemnin po regijah."
   ]
  },
  {
   "cell_type": "code",
   "execution_count": 6,
   "metadata": {},
   "outputs": [
    {
     "data": {
      "text/html": [
       "<div>\n",
       "<style scoped>\n",
       "    .dataframe tbody tr th:only-of-type {\n",
       "        vertical-align: middle;\n",
       "    }\n",
       "\n",
       "    .dataframe tbody tr th {\n",
       "        vertical-align: top;\n",
       "    }\n",
       "\n",
       "    .dataframe thead th {\n",
       "        text-align: right;\n",
       "    }\n",
       "</style>\n",
       "<table border=\"1\" class=\"dataframe\">\n",
       "  <thead>\n",
       "    <tr style=\"text-align: right;\">\n",
       "      <th></th>\n",
       "      <th>kvadratura</th>\n",
       "      <th>cena</th>\n",
       "      <th>regija</th>\n",
       "    </tr>\n",
       "    <tr>\n",
       "      <th>id</th>\n",
       "      <th></th>\n",
       "      <th></th>\n",
       "      <th></th>\n",
       "    </tr>\n",
       "  </thead>\n",
       "  <tbody>\n",
       "    <tr>\n",
       "      <th>6350807</th>\n",
       "      <td>217.14</td>\n",
       "      <td>8000.0</td>\n",
       "      <td>LJ-mesto</td>\n",
       "    </tr>\n",
       "    <tr>\n",
       "      <th>6350921</th>\n",
       "      <td>220.30</td>\n",
       "      <td>7000.0</td>\n",
       "      <td>LJ-mesto</td>\n",
       "    </tr>\n",
       "    <tr>\n",
       "      <th>6208667</th>\n",
       "      <td>244.20</td>\n",
       "      <td>3500.0</td>\n",
       "      <td>LJ-mesto</td>\n",
       "    </tr>\n",
       "    <tr>\n",
       "      <th>6145130</th>\n",
       "      <td>204.70</td>\n",
       "      <td>3300.0</td>\n",
       "      <td>LJ-mesto</td>\n",
       "    </tr>\n",
       "    <tr>\n",
       "      <th>6119316</th>\n",
       "      <td>149.70</td>\n",
       "      <td>3100.0</td>\n",
       "      <td>LJ-mesto</td>\n",
       "    </tr>\n",
       "  </tbody>\n",
       "</table>\n",
       "</div>"
      ],
      "text/plain": [
       "         kvadratura    cena    regija\n",
       "id                                   \n",
       "6350807      217.14  8000.0  LJ-mesto\n",
       "6350921      220.30  7000.0  LJ-mesto\n",
       "6208667      244.20  3500.0  LJ-mesto\n",
       "6145130      204.70  3300.0  LJ-mesto\n",
       "6119316      149.70  3100.0  LJ-mesto"
      ]
     },
     "execution_count": 6,
     "metadata": {},
     "output_type": "execute_result"
    }
   ],
   "source": [
    "slo_stanovanja[['kvadratura', 'cena', 'regija']].sort_values('cena', ascending=False).head(5)"
   ]
  },
  {
   "cell_type": "markdown",
   "metadata": {},
   "source": [
    "Za razliko od hipoteze se prvih 5 najdražjih stanovanj v najem oddaja v Ljubljani(mesto). Poglejmo ali je morda $cena / m^2$ bližja naši hipotezi."
   ]
  },
  {
   "cell_type": "code",
   "execution_count": 7,
   "metadata": {},
   "outputs": [],
   "source": [
    "Stanovanja['cena_kvad'] = (Stanovanja.cena // Stanovanja.kvadratura)\n",
    "slo_stanovanja = Stanovanja[(Stanovanja.regija != 'Šibeniško-kninska') & (Stanovanja.regija != 'Istrska') & (Stanovanja.regija != 'Primorsko-goranska')]"
   ]
  },
  {
   "cell_type": "code",
   "execution_count": 8,
   "metadata": {},
   "outputs": [
    {
     "data": {
      "text/plain": [
       "11.0"
      ]
     },
     "execution_count": 8,
     "metadata": {},
     "output_type": "execute_result"
    }
   ],
   "source": [
    "sum(slo_stanovanja.cena_kvad) // 1710"
   ]
  },
  {
   "cell_type": "markdown",
   "metadata": {},
   "source": [
    "Kvadratni meter se v Sloveniji v povprečju oddaja za 11€"
   ]
  },
  {
   "cell_type": "code",
   "execution_count": 9,
   "metadata": {},
   "outputs": [
    {
     "data": {
      "text/html": [
       "<div>\n",
       "<style scoped>\n",
       "    .dataframe tbody tr th:only-of-type {\n",
       "        vertical-align: middle;\n",
       "    }\n",
       "\n",
       "    .dataframe tbody tr th {\n",
       "        vertical-align: top;\n",
       "    }\n",
       "\n",
       "    .dataframe thead th {\n",
       "        text-align: right;\n",
       "    }\n",
       "</style>\n",
       "<table border=\"1\" class=\"dataframe\">\n",
       "  <thead>\n",
       "    <tr style=\"text-align: right;\">\n",
       "      <th></th>\n",
       "      <th>cena_kvad</th>\n",
       "      <th>kvadratura</th>\n",
       "      <th>cena</th>\n",
       "      <th>regija</th>\n",
       "    </tr>\n",
       "    <tr>\n",
       "      <th>id</th>\n",
       "      <th></th>\n",
       "      <th></th>\n",
       "      <th></th>\n",
       "      <th></th>\n",
       "    </tr>\n",
       "  </thead>\n",
       "  <tbody>\n",
       "    <tr>\n",
       "      <th>6373737</th>\n",
       "      <td>100.0</td>\n",
       "      <td>12.0</td>\n",
       "      <td>1200.0</td>\n",
       "      <td>LJ-mesto</td>\n",
       "    </tr>\n",
       "    <tr>\n",
       "      <th>6349093</th>\n",
       "      <td>53.0</td>\n",
       "      <td>9.3</td>\n",
       "      <td>500.0</td>\n",
       "      <td>LJ-mesto</td>\n",
       "    </tr>\n",
       "    <tr>\n",
       "      <th>6349088</th>\n",
       "      <td>41.0</td>\n",
       "      <td>14.3</td>\n",
       "      <td>600.0</td>\n",
       "      <td>LJ-mesto</td>\n",
       "    </tr>\n",
       "    <tr>\n",
       "      <th>6339175</th>\n",
       "      <td>36.0</td>\n",
       "      <td>15.0</td>\n",
       "      <td>550.0</td>\n",
       "      <td>LJ-mesto</td>\n",
       "    </tr>\n",
       "    <tr>\n",
       "      <th>6356638</th>\n",
       "      <td>36.0</td>\n",
       "      <td>13.0</td>\n",
       "      <td>480.0</td>\n",
       "      <td>LJ-mesto</td>\n",
       "    </tr>\n",
       "  </tbody>\n",
       "</table>\n",
       "</div>"
      ],
      "text/plain": [
       "         cena_kvad  kvadratura    cena    regija\n",
       "id                                              \n",
       "6373737      100.0        12.0  1200.0  LJ-mesto\n",
       "6349093       53.0         9.3   500.0  LJ-mesto\n",
       "6349088       41.0        14.3   600.0  LJ-mesto\n",
       "6339175       36.0        15.0   550.0  LJ-mesto\n",
       "6356638       36.0        13.0   480.0  LJ-mesto"
      ]
     },
     "execution_count": 9,
     "metadata": {},
     "output_type": "execute_result"
    }
   ],
   "source": [
    "slo_stanovanja[['cena_kvad', 'kvadratura', 'cena', 'regija']].sort_values('cena_kvad', ascending=False).head(5)"
   ]
  },
  {
   "cell_type": "markdown",
   "metadata": {},
   "source": [
    "Kot vidimo se sam vrh najemnin na kvadratni meter ponovno pojavlja v Ljubljani."
   ]
  },
  {
   "cell_type": "markdown",
   "metadata": {},
   "source": [
    "Oglejmo si še povprečje"
   ]
  },
  {
   "cell_type": "code",
   "execution_count": 10,
   "metadata": {},
   "outputs": [],
   "source": [
    "Stanovanja_po_regijah = slo_stanovanja.groupby('regija')"
   ]
  },
  {
   "cell_type": "code",
   "execution_count": 11,
   "metadata": {},
   "outputs": [
    {
     "data": {
      "text/html": [
       "<div>\n",
       "<style scoped>\n",
       "    .dataframe tbody tr th:only-of-type {\n",
       "        vertical-align: middle;\n",
       "    }\n",
       "\n",
       "    .dataframe tbody tr th {\n",
       "        vertical-align: top;\n",
       "    }\n",
       "\n",
       "    .dataframe thead th {\n",
       "        text-align: right;\n",
       "    }\n",
       "</style>\n",
       "<table border=\"1\" class=\"dataframe\">\n",
       "  <thead>\n",
       "    <tr style=\"text-align: right;\">\n",
       "      <th></th>\n",
       "      <th>cena_kvad</th>\n",
       "      <th>kvadratura</th>\n",
       "      <th>cena</th>\n",
       "    </tr>\n",
       "    <tr>\n",
       "      <th>regija</th>\n",
       "      <th></th>\n",
       "      <th></th>\n",
       "      <th></th>\n",
       "    </tr>\n",
       "  </thead>\n",
       "  <tbody>\n",
       "    <tr>\n",
       "      <th>LJ-mesto</th>\n",
       "      <td>13.377477</td>\n",
       "      <td>66.648775</td>\n",
       "      <td>853.748649</td>\n",
       "    </tr>\n",
       "    <tr>\n",
       "      <th>J. Primorska</th>\n",
       "      <td>12.062500</td>\n",
       "      <td>50.646806</td>\n",
       "      <td>567.638889</td>\n",
       "    </tr>\n",
       "    <tr>\n",
       "      <th>LJ-okolica</th>\n",
       "      <td>10.192661</td>\n",
       "      <td>61.023119</td>\n",
       "      <td>547.981651</td>\n",
       "    </tr>\n",
       "    <tr>\n",
       "      <th>Gorenjska</th>\n",
       "      <td>9.906977</td>\n",
       "      <td>56.954651</td>\n",
       "      <td>532.558140</td>\n",
       "    </tr>\n",
       "    <tr>\n",
       "      <th>Koroška</th>\n",
       "      <td>9.555556</td>\n",
       "      <td>31.113333</td>\n",
       "      <td>250.888889</td>\n",
       "    </tr>\n",
       "    <tr>\n",
       "      <th>S.Primorska</th>\n",
       "      <td>8.600000</td>\n",
       "      <td>67.190000</td>\n",
       "      <td>452.500000</td>\n",
       "    </tr>\n",
       "    <tr>\n",
       "      <th>Notranjska</th>\n",
       "      <td>8.125000</td>\n",
       "      <td>48.290000</td>\n",
       "      <td>338.125000</td>\n",
       "    </tr>\n",
       "    <tr>\n",
       "      <th>Podravska</th>\n",
       "      <td>7.901235</td>\n",
       "      <td>57.987407</td>\n",
       "      <td>436.839506</td>\n",
       "    </tr>\n",
       "    <tr>\n",
       "      <th>Dolenjska</th>\n",
       "      <td>7.072727</td>\n",
       "      <td>52.134545</td>\n",
       "      <td>335.545455</td>\n",
       "    </tr>\n",
       "    <tr>\n",
       "      <th>Savinjska</th>\n",
       "      <td>6.860000</td>\n",
       "      <td>63.734000</td>\n",
       "      <td>388.100000</td>\n",
       "    </tr>\n",
       "    <tr>\n",
       "      <th>Pomurska</th>\n",
       "      <td>5.733333</td>\n",
       "      <td>58.346667</td>\n",
       "      <td>354.066667</td>\n",
       "    </tr>\n",
       "    <tr>\n",
       "      <th>Posavska</th>\n",
       "      <td>5.705882</td>\n",
       "      <td>64.920588</td>\n",
       "      <td>366.235294</td>\n",
       "    </tr>\n",
       "    <tr>\n",
       "      <th>Vse regije</th>\n",
       "      <td>5.000000</td>\n",
       "      <td>66.500000</td>\n",
       "      <td>375.000000</td>\n",
       "    </tr>\n",
       "    <tr>\n",
       "      <th>Zasavska</th>\n",
       "      <td>4.500000</td>\n",
       "      <td>58.000000</td>\n",
       "      <td>300.000000</td>\n",
       "    </tr>\n",
       "  </tbody>\n",
       "</table>\n",
       "</div>"
      ],
      "text/plain": [
       "              cena_kvad  kvadratura        cena\n",
       "regija                                         \n",
       "LJ-mesto      13.377477   66.648775  853.748649\n",
       "J. Primorska  12.062500   50.646806  567.638889\n",
       "LJ-okolica    10.192661   61.023119  547.981651\n",
       "Gorenjska      9.906977   56.954651  532.558140\n",
       "Koroška        9.555556   31.113333  250.888889\n",
       "S.Primorska    8.600000   67.190000  452.500000\n",
       "Notranjska     8.125000   48.290000  338.125000\n",
       "Podravska      7.901235   57.987407  436.839506\n",
       "Dolenjska      7.072727   52.134545  335.545455\n",
       "Savinjska      6.860000   63.734000  388.100000\n",
       "Pomurska       5.733333   58.346667  354.066667\n",
       "Posavska       5.705882   64.920588  366.235294\n",
       "Vse regije     5.000000   66.500000  375.000000\n",
       "Zasavska       4.500000   58.000000  300.000000"
      ]
     },
     "execution_count": 11,
     "metadata": {},
     "output_type": "execute_result"
    }
   ],
   "source": [
    "Stanovanja_po_regijah.mean()[['cena_kvad', 'kvadratura', 'cena']].sort_values('cena_kvad', ascending=False)"
   ]
  },
  {
   "cell_type": "markdown",
   "metadata": {},
   "source": [
    "Hipoteza torej ne drži. Najem stanovanj je najdražji v Ljubljani in ne na primorskem. Kljub temu smo se hipotezi pribrižali, saj je cena kvadratnega metra nad povprečjem ($11€/m^2$) prav v ljubljanski in primorski regiji. Tik pod povprečjem je okolica Ljubljane, najnižje cene pa so v zasavski regiji po $4.5€/m^2$."
   ]
  },
  {
   "cell_type": "markdown",
   "metadata": {},
   "source": [
    "Ali visoke cene vplivajo na povprečno velikost stanovanj, ki se gradijo v določeni regiji? Za primerjavo si poglejmo spodnji graf."
   ]
  },
  {
   "cell_type": "code",
   "execution_count": 12,
   "metadata": {},
   "outputs": [
    {
     "data": {
      "text/plain": [
       "<AxesSubplot:ylabel='regija'>"
      ]
     },
     "execution_count": 12,
     "metadata": {},
     "output_type": "execute_result"
    },
    {
     "data": {
      "image/png": "[encoded data removed]",
      "text/plain": [
       "<Figure size 1008x720 with 1 Axes>"
      ]
     },
     "metadata": {
      "needs_background": "light"
     },
     "output_type": "display_data"
    }
   ],
   "source": [
    "Stanovanja_po_regijah.mean()[['cena_kvad', 'kvadratura']].sort_values('cena_kvad', ascending=True).plot.barh(figsize=(14,10))"
   ]
  },
  {
   "cell_type": "markdown",
   "metadata": {},
   "source": [
    "Opazimo lahko, da visoka cena kvadrature v Ljubljani ne vpliva na oddajo velikih stanovanj. Nekoliko večja razlika je na južno-primorskem, kjer povprečna kvadratura nekoliko nižja"
   ]
  },
  {
   "cell_type": "markdown",
   "metadata": {},
   "source": [
    "Za boljši občutek o odvisnosti cene od kvadrature si poglejmo še spodnji graf."
   ]
  },
  {
   "cell_type": "code",
   "execution_count": 13,
   "metadata": {},
   "outputs": [
    {
     "data": {
      "text/plain": [
       "<AxesSubplot:xlabel='kvadratura', ylabel='cena'>"
      ]
     },
     "execution_count": 13,
     "metadata": {},
     "output_type": "execute_result"
    },
    {
     "data": {
      "image/png": "[encoded data removed]",
      "text/plain": [
       "<Figure size 1080x504 with 1 Axes>"
      ]
     },
     "metadata": {
      "needs_background": "light"
     },
     "output_type": "display_data"
    }
   ],
   "source": [
    "ax = Stanovanja.plot.scatter(y='cena', x='kvadratura', color='Grey', label='vsi')\n",
    "Stanovanja[Stanovanja.regija == 'LJ-mesto'].plot.scatter(y='cena', x='kvadratura', color='Yellow', label='LJ-mesto', ax=ax)\n",
    "Stanovanja[Stanovanja.regija == 'J. Primorska'].plot.scatter(y='cena', x='kvadratura', color='Green', label='J.Primorska', ax=ax)\n",
    "Stanovanja[Stanovanja.regija == 'Posavska'].plot.scatter(y='cena', x='kvadratura', color='Blue', label='Posavska', ax=ax)\n",
    "Stanovanja[Stanovanja.regija == 'Dolenjska'].plot.scatter(y='cena', x='kvadratura', color='Red', label='Dolenjska', ax=ax)\n",
    "Stanovanja[Stanovanja.regija == 'Koroška'].plot.scatter(y='cena', x='kvadratura', color='Orange', label='Koroška', ax=ax, figsize=(15,7))\n"
   ]
  },
  {
   "cell_type": "markdown",
   "metadata": {},
   "source": [
    "Opazimo, da v ljubljanski in južno primorski regiji najemnina v odvisnosti od kvadrature strmeje narašča kot v ostalih."
   ]
  },
  {
   "cell_type": "markdown",
   "metadata": {},
   "source": [
    "### Vpliv števila sob ter kvadrature na ceno stanovanja\n",
    "Ugotovili smo, da ima lokacija velik vpliv na višino najemnin. Dalje nas zanima kolikšen pomen ima poleg kvadrature tudi število sob v stanovanju."
   ]
  },
  {
   "cell_type": "code",
   "execution_count": 14,
   "metadata": {},
   "outputs": [],
   "source": [
    "Stanovanja['cena_zaokrozeno'] = 100 * (Stanovanja.cena // 100)\n",
    "slo_stanovanja = Stanovanja[(Stanovanja.regija != 'Šibeniško-kninska') & (Stanovanja.regija != 'Istrska') & (Stanovanja.regija != 'Primorsko-goranska')]"
   ]
  },
  {
   "cell_type": "code",
   "execution_count": 44,
   "metadata": {},
   "outputs": [],
   "source": [
    "Stanovanja_sobe = Stanovanja[(Stanovanja.tip != 'apartma') & (Stanovanja.tip != '1-sobni nadstandardni apartma') & (Stanovanja.tip != 'nadstandardna soba') & (Stanovanja.tip != 'stanovanje') & (Stanovanja.tip != '2- sobno')]"
   ]
  },
  {
   "cell_type": "code",
   "execution_count": 54,
   "metadata": {},
   "outputs": [],
   "source": [
    "custom_dict = {'soba': 0, 'garsonjera': 1, '1,5-sobno': 2, '1-sobno': 3, '2-sobno': 4,'2,5-sobno': 5,'3-sobno': 6,'3,5-sobno': 7, '4-sobno': 8, '4,5-sobno': 9, '5 in večsobno': 10}\n",
    "preurejen = Stanovanja_sobe[Stanovanja_sobe.regija == 'LJ-mesto'].sort_values(by=['tip'], key=lambda x: x.map(custom_dict))\n"
   ]
  },
  {
   "cell_type": "code",
   "execution_count": 73,
   "metadata": {
    "scrolled": false
   },
   "outputs": [
    {
     "data": {
      "text/html": [
       "<div>\n",
       "<style scoped>\n",
       "    .dataframe tbody tr th:only-of-type {\n",
       "        vertical-align: middle;\n",
       "    }\n",
       "\n",
       "    .dataframe tbody tr th {\n",
       "        vertical-align: top;\n",
       "    }\n",
       "\n",
       "    .dataframe thead th {\n",
       "        text-align: right;\n",
       "    }\n",
       "</style>\n",
       "<table border=\"1\" class=\"dataframe\">\n",
       "  <thead>\n",
       "    <tr style=\"text-align: right;\">\n",
       "      <th></th>\n",
       "      <th>kvadratura</th>\n",
       "      <th>tip</th>\n",
       "      <th>leto</th>\n",
       "      <th>cena</th>\n",
       "      <th>regija</th>\n",
       "      <th>upravna</th>\n",
       "      <th>obcina</th>\n",
       "      <th>cena_kvad</th>\n",
       "      <th>cena_zaokrozeno</th>\n",
       "    </tr>\n",
       "    <tr>\n",
       "      <th>id</th>\n",
       "      <th></th>\n",
       "      <th></th>\n",
       "      <th></th>\n",
       "      <th></th>\n",
       "      <th></th>\n",
       "      <th></th>\n",
       "      <th></th>\n",
       "      <th></th>\n",
       "      <th></th>\n",
       "    </tr>\n",
       "  </thead>\n",
       "  <tbody>\n",
       "    <tr>\n",
       "      <th>6365973</th>\n",
       "      <td>16.00</td>\n",
       "      <td>soba</td>\n",
       "      <td>2014</td>\n",
       "      <td>250.0</td>\n",
       "      <td>LJ-mesto</td>\n",
       "      <td>Lj. Bežigrad</td>\n",
       "      <td>Ljubljana</td>\n",
       "      <td>15.0</td>\n",
       "      <td>200.0</td>\n",
       "    </tr>\n",
       "    <tr>\n",
       "      <th>6370696</th>\n",
       "      <td>15.00</td>\n",
       "      <td>soba</td>\n",
       "      <td>2019</td>\n",
       "      <td>290.0</td>\n",
       "      <td>LJ-mesto</td>\n",
       "      <td>Lj. Bežigrad</td>\n",
       "      <td>Ljubljana</td>\n",
       "      <td>19.0</td>\n",
       "      <td>200.0</td>\n",
       "    </tr>\n",
       "    <tr>\n",
       "      <th>6370527</th>\n",
       "      <td>20.00</td>\n",
       "      <td>soba</td>\n",
       "      <td>2018</td>\n",
       "      <td>300.0</td>\n",
       "      <td>LJ-mesto</td>\n",
       "      <td>Lj. Moste-Polje</td>\n",
       "      <td>Ljubljana</td>\n",
       "      <td>15.0</td>\n",
       "      <td>300.0</td>\n",
       "    </tr>\n",
       "    <tr>\n",
       "      <th>6370430</th>\n",
       "      <td>9.00</td>\n",
       "      <td>soba</td>\n",
       "      <td>2020</td>\n",
       "      <td>195.0</td>\n",
       "      <td>LJ-mesto</td>\n",
       "      <td>Lj. Center</td>\n",
       "      <td>Ljubljana</td>\n",
       "      <td>21.0</td>\n",
       "      <td>100.0</td>\n",
       "    </tr>\n",
       "    <tr>\n",
       "      <th>6322240</th>\n",
       "      <td>20.00</td>\n",
       "      <td>soba</td>\n",
       "      <td>1980</td>\n",
       "      <td>160.0</td>\n",
       "      <td>LJ-mesto</td>\n",
       "      <td>Lj. Vič-Rudnik</td>\n",
       "      <td>Ljubljana</td>\n",
       "      <td>8.0</td>\n",
       "      <td>100.0</td>\n",
       "    </tr>\n",
       "    <tr>\n",
       "      <th>...</th>\n",
       "      <td>...</td>\n",
       "      <td>...</td>\n",
       "      <td>...</td>\n",
       "      <td>...</td>\n",
       "      <td>...</td>\n",
       "      <td>...</td>\n",
       "      <td>...</td>\n",
       "      <td>...</td>\n",
       "      <td>...</td>\n",
       "    </tr>\n",
       "    <tr>\n",
       "      <th>6350921</th>\n",
       "      <td>220.30</td>\n",
       "      <td>5 in večsobno</td>\n",
       "      <td>2018</td>\n",
       "      <td>7000.0</td>\n",
       "      <td>LJ-mesto</td>\n",
       "      <td>Lj. Šiška</td>\n",
       "      <td>Ljubljana</td>\n",
       "      <td>31.0</td>\n",
       "      <td>7000.0</td>\n",
       "    </tr>\n",
       "    <tr>\n",
       "      <th>6372951</th>\n",
       "      <td>125.86</td>\n",
       "      <td>5 in večsobno</td>\n",
       "      <td>2005</td>\n",
       "      <td>2200.0</td>\n",
       "      <td>LJ-mesto</td>\n",
       "      <td>Lj. Center</td>\n",
       "      <td>Ljubljana</td>\n",
       "      <td>17.0</td>\n",
       "      <td>2200.0</td>\n",
       "    </tr>\n",
       "    <tr>\n",
       "      <th>6350807</th>\n",
       "      <td>217.14</td>\n",
       "      <td>5 in večsobno</td>\n",
       "      <td>2018</td>\n",
       "      <td>8000.0</td>\n",
       "      <td>LJ-mesto</td>\n",
       "      <td>Lj. Šiška</td>\n",
       "      <td>Ljubljana</td>\n",
       "      <td>36.0</td>\n",
       "      <td>8000.0</td>\n",
       "    </tr>\n",
       "    <tr>\n",
       "      <th>6208667</th>\n",
       "      <td>244.20</td>\n",
       "      <td>5 in večsobno</td>\n",
       "      <td>2009</td>\n",
       "      <td>3500.0</td>\n",
       "      <td>LJ-mesto</td>\n",
       "      <td>Lj. Center</td>\n",
       "      <td>Ljubljana</td>\n",
       "      <td>14.0</td>\n",
       "      <td>3500.0</td>\n",
       "    </tr>\n",
       "    <tr>\n",
       "      <th>6355549</th>\n",
       "      <td>200.00</td>\n",
       "      <td>5 in večsobno</td>\n",
       "      <td>2017</td>\n",
       "      <td>2200.0</td>\n",
       "      <td>LJ-mesto</td>\n",
       "      <td>Lj. Center</td>\n",
       "      <td>Ljubljana</td>\n",
       "      <td>11.0</td>\n",
       "      <td>2200.0</td>\n",
       "    </tr>\n",
       "  </tbody>\n",
       "</table>\n",
       "<p>1101 rows × 9 columns</p>\n",
       "</div>"
      ],
      "text/plain": [
       "         kvadratura            tip  leto    cena    regija           upravna  \\\n",
       "id                                                                             \n",
       "6365973       16.00           soba  2014   250.0  LJ-mesto      Lj. Bežigrad   \n",
       "6370696       15.00           soba  2019   290.0  LJ-mesto      Lj. Bežigrad   \n",
       "6370527       20.00           soba  2018   300.0  LJ-mesto   Lj. Moste-Polje   \n",
       "6370430        9.00           soba  2020   195.0  LJ-mesto        Lj. Center   \n",
       "6322240       20.00           soba  1980   160.0  LJ-mesto    Lj. Vič-Rudnik   \n",
       "...             ...            ...   ...     ...       ...               ...   \n",
       "6350921      220.30  5 in večsobno  2018  7000.0  LJ-mesto         Lj. Šiška   \n",
       "6372951      125.86  5 in večsobno  2005  2200.0  LJ-mesto        Lj. Center   \n",
       "6350807      217.14  5 in večsobno  2018  8000.0  LJ-mesto         Lj. Šiška   \n",
       "6208667      244.20  5 in večsobno  2009  3500.0  LJ-mesto        Lj. Center   \n",
       "6355549      200.00  5 in večsobno  2017  2200.0  LJ-mesto        Lj. Center   \n",
       "\n",
       "            obcina  cena_kvad  cena_zaokrozeno  \n",
       "id                                              \n",
       "6365973  Ljubljana       15.0            200.0  \n",
       "6370696  Ljubljana       19.0            200.0  \n",
       "6370527  Ljubljana       15.0            300.0  \n",
       "6370430  Ljubljana       21.0            100.0  \n",
       "6322240  Ljubljana        8.0            100.0  \n",
       "...            ...        ...              ...  \n",
       "6350921  Ljubljana       31.0           7000.0  \n",
       "6372951  Ljubljana       17.0           2200.0  \n",
       "6350807  Ljubljana       36.0           8000.0  \n",
       "6208667  Ljubljana       14.0           3500.0  \n",
       "6355549  Ljubljana       11.0           2200.0  \n",
       "\n",
       "[1101 rows x 9 columns]"
      ]
     },
     "execution_count": 73,
     "metadata": {},
     "output_type": "execute_result"
    }
   ],
   "source": [
    "\n",
    "preurejen"
   ]
  },
  {
   "cell_type": "markdown",
   "metadata": {},
   "source": [
    "Na zgornjem grafu predstavljajo pol"
   ]
  },
  {
   "cell_type": "code",
   "execution_count": 70,
   "metadata": {},
   "outputs": [
    {
     "data": {
      "text/plain": [
       "<AxesSubplot:xlabel='tip'>"
      ]
     },
     "execution_count": 70,
     "metadata": {},
     "output_type": "execute_result"
    },
    {
     "data": {
      "image/png": "[encoded data removed]",
      "text/plain": [
       "<Figure size 432x288 with 1 Axes>"
      ]
     },
     "metadata": {
      "needs_background": "light"
     },
     "output_type": "display_data"
    }
   ],
   "source": [
    "custom_dict = {'soba': 0, 'garsonjera': 1, '1,5-sobno': 2, '1-sobno': 3, '2-sobno': 4,'2,5-sobno': 5,'3-sobno': 6,'3,5-sobno': 7, '4-sobno': 8, '4,5-sobno': 9, '5 in večsobno': 10}\n",
    "stan_tip = preurejen.groupby('tip')\n",
    "stan_tip.mean()[['cena']].plot()"
   ]
  },
  {
   "cell_type": "markdown",
   "metadata": {},
   "source": [
    "### Število aktivnih oglasov po regijah"
   ]
  },
  {
   "cell_type": "code",
   "execution_count": 92,
   "metadata": {},
   "outputs": [
    {
     "data": {
      "text/html": [
       "<div>\n",
       "<style scoped>\n",
       "    .dataframe tbody tr th:only-of-type {\n",
       "        vertical-align: middle;\n",
       "    }\n",
       "\n",
       "    .dataframe tbody tr th {\n",
       "        vertical-align: top;\n",
       "    }\n",
       "\n",
       "    .dataframe thead th {\n",
       "        text-align: right;\n",
       "    }\n",
       "</style>\n",
       "<table border=\"1\" class=\"dataframe\">\n",
       "  <thead>\n",
       "    <tr style=\"text-align: right;\">\n",
       "      <th></th>\n",
       "      <th>upravna</th>\n",
       "    </tr>\n",
       "    <tr>\n",
       "      <th>regija</th>\n",
       "      <th></th>\n",
       "    </tr>\n",
       "  </thead>\n",
       "  <tbody>\n",
       "    <tr>\n",
       "      <th>LJ-mesto</th>\n",
       "      <td>1110</td>\n",
       "    </tr>\n",
       "    <tr>\n",
       "      <th>J. Primorska</th>\n",
       "      <td>144</td>\n",
       "    </tr>\n",
       "    <tr>\n",
       "      <th>LJ-okolica</th>\n",
       "      <td>109</td>\n",
       "    </tr>\n",
       "    <tr>\n",
       "      <th>Gorenjska</th>\n",
       "      <td>86</td>\n",
       "    </tr>\n",
       "    <tr>\n",
       "      <th>Podravska</th>\n",
       "      <td>81</td>\n",
       "    </tr>\n",
       "    <tr>\n",
       "      <th>Dolenjska</th>\n",
       "      <td>55</td>\n",
       "    </tr>\n",
       "    <tr>\n",
       "      <th>Savinjska</th>\n",
       "      <td>50</td>\n",
       "    </tr>\n",
       "    <tr>\n",
       "      <th>Posavska</th>\n",
       "      <td>17</td>\n",
       "    </tr>\n",
       "    <tr>\n",
       "      <th>Pomurska</th>\n",
       "      <td>15</td>\n",
       "    </tr>\n",
       "    <tr>\n",
       "      <th>S.Primorska</th>\n",
       "      <td>10</td>\n",
       "    </tr>\n",
       "    <tr>\n",
       "      <th>Koroška</th>\n",
       "      <td>9</td>\n",
       "    </tr>\n",
       "    <tr>\n",
       "      <th>Notranjska</th>\n",
       "      <td>8</td>\n",
       "    </tr>\n",
       "    <tr>\n",
       "      <th>Vse regije</th>\n",
       "      <td>2</td>\n",
       "    </tr>\n",
       "    <tr>\n",
       "      <th>Zasavska</th>\n",
       "      <td>2</td>\n",
       "    </tr>\n",
       "  </tbody>\n",
       "</table>\n",
       "</div>"
      ],
      "text/plain": [
       "              upravna\n",
       "regija               \n",
       "LJ-mesto         1110\n",
       "J. Primorska      144\n",
       "LJ-okolica        109\n",
       "Gorenjska          86\n",
       "Podravska          81\n",
       "Dolenjska          55\n",
       "Savinjska          50\n",
       "Posavska           17\n",
       "Pomurska           15\n",
       "S.Primorska        10\n",
       "Koroška             9\n",
       "Notranjska          8\n",
       "Vse regije          2\n",
       "Zasavska            2"
      ]
     },
     "execution_count": 92,
     "metadata": {},
     "output_type": "execute_result"
    }
   ],
   "source": [
    "po_regijah = slo_stanovanja[['regija', 'upravna']].groupby('regija').count().sort_values('upravna', ascending=False)\n",
    "po_regijah"
   ]
  },
  {
   "cell_type": "code",
   "execution_count": 93,
   "metadata": {},
   "outputs": [
    {
     "data": {
      "text/plain": [
       "<AxesSubplot:ylabel='upravna'>"
      ]
     },
     "execution_count": 93,
     "metadata": {},
     "output_type": "execute_result"
    },
    {
     "data": {
      "image/png": "[encoded data removed]",
      "text/plain": [
       "<Figure size 720x720 with 1 Axes>"
      ]
     },
     "metadata": {},
     "output_type": "display_data"
    }
   ],
   "source": [
    "po_regijah.plot.pie(y='upravna', figsize=(10, 10))"
   ]
  },
  {
   "cell_type": "markdown",
   "metadata": {},
   "source": [
    "### Starost"
   ]
  },
  {
   "cell_type": "code",
   "execution_count": 109,
   "metadata": {},
   "outputs": [
    {
     "name": "stderr",
     "output_type": "stream",
     "text": [
      "<ipython-input-109-37d82f1647d3>:1: UserWarning: Boolean Series key will be reindexed to match DataFrame index.\n",
      "  slo_stanovanja[slo_stanovanja.regija == 'LJ-mesto'][slo_stanovanja.leto >= 1800].groupby('leto').mean()[['cena_kvad']].plot(figsize=(15, 5))\n"
     ]
    },
    {
     "data": {
      "text/plain": [
       "<AxesSubplot:xlabel='leto'>"
      ]
     },
     "execution_count": 109,
     "metadata": {},
     "output_type": "execute_result"
    },
    {
     "data": {
      "image/png": "[encoded data removed]",
      "text/plain": [
       "<Figure size 1080x360 with 1 Axes>"
      ]
     },
     "metadata": {
      "needs_background": "light"
     },
     "output_type": "display_data"
    }
   ],
   "source": [
    "slo_stanovanja[slo_stanovanja.regija == 'LJ-mesto'][slo_stanovanja.leto >= 1800].groupby('leto').mean()[['cena_kvad']].plot(figsize=(15, 5))"
   ]
  },
  {
   "cell_type": "code",
   "execution_count": null,
   "metadata": {},
   "outputs": [],
   "source": []
  }
 ],
 "metadata": {
  "kernelspec": {
   "display_name": "Python 3",
   "language": "python",
   "name": "python3"
  },
  "language_info": {
   "codemirror_mode": {
    "name": "ipython",
    "version": 3
   },
   "file_extension": ".py",
   "mimetype": "text/x-python",
   "name": "python",
   "nbconvert_exporter": "python",
   "pygments_lexer": "ipython3",
   "version": "3.8.1"
  }
 },
 "nbformat": 4,
 "nbformat_minor": 4
}
