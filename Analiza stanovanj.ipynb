{
 "cells": [
  {
   "cell_type": "markdown",
   "metadata": {},
   "source": [
    "# **ANALIZA STANOVANJ**"
   ]
  },
  {
   "cell_type": "markdown",
   "metadata": {},
   "source": [
    "## Uvod\n",
    "V tej datoteki je predstavljena analiza podatkov o oddaji stanovanj, zbranih s spletne strani [Nepremičnine](https://www.nepremicnine.net/).\n",
    "\n",
    "Obravnavali bomo vpliv različnih dejavnikov na višino najemnine. Zbrani podatki o stanovanjih so:\n",
    "* id stanovanja\n",
    "* kvadratura\n",
    "* tip (število sob)\n",
    "* leto\n",
    "* cena (mesečna najemnina)\n",
    "* regija\n",
    "* upravna enota\n",
    "* občina"
   ]
  },
  {
   "cell_type": "code",
   "execution_count": 1,
   "metadata": {},
   "outputs": [],
   "source": [
    "import pandas as pd"
   ]
  },
  {
   "cell_type": "code",
   "execution_count": 2,
   "metadata": {},
   "outputs": [],
   "source": [
    "Stanovanja = pd.read_csv(\"obdelani-podatki\\podatki.csv\", index_col='id')"
   ]
  },
  {
   "cell_type": "code",
   "execution_count": 3,
   "metadata": {},
   "outputs": [
    {
     "data": {
      "text/html": [
       "<div>\n",
       "<style scoped>\n",
       "    .dataframe tbody tr th:only-of-type {\n",
       "        vertical-align: middle;\n",
       "    }\n",
       "\n",
       "    .dataframe tbody tr th {\n",
       "        vertical-align: top;\n",
       "    }\n",
       "\n",
       "    .dataframe thead th {\n",
       "        text-align: right;\n",
       "    }\n",
       "</style>\n",
       "<table border=\"1\" class=\"dataframe\">\n",
       "  <thead>\n",
       "    <tr style=\"text-align: right;\">\n",
       "      <th></th>\n",
       "      <th>kvadratura</th>\n",
       "      <th>tip</th>\n",
       "      <th>leto</th>\n",
       "      <th>cena</th>\n",
       "      <th>regija</th>\n",
       "      <th>upravna</th>\n",
       "      <th>obcina</th>\n",
       "    </tr>\n",
       "    <tr>\n",
       "      <th>id</th>\n",
       "      <th></th>\n",
       "      <th></th>\n",
       "      <th></th>\n",
       "      <th></th>\n",
       "      <th></th>\n",
       "      <th></th>\n",
       "      <th></th>\n",
       "    </tr>\n",
       "  </thead>\n",
       "  <tbody>\n",
       "    <tr>\n",
       "      <th>5568627</th>\n",
       "      <td>15.0</td>\n",
       "      <td>soba</td>\n",
       "      <td>2010</td>\n",
       "      <td>250.0</td>\n",
       "      <td>Koroška</td>\n",
       "      <td>Slovenj Gradec</td>\n",
       "      <td>Slovenj Gradec</td>\n",
       "    </tr>\n",
       "    <tr>\n",
       "      <th>5625423</th>\n",
       "      <td>70.0</td>\n",
       "      <td>apartma</td>\n",
       "      <td>2012</td>\n",
       "      <td>80.0</td>\n",
       "      <td>J. Primorska</td>\n",
       "      <td>Izola</td>\n",
       "      <td>Izola</td>\n",
       "    </tr>\n",
       "    <tr>\n",
       "      <th>5649165</th>\n",
       "      <td>18.0</td>\n",
       "      <td>garsonjera</td>\n",
       "      <td>2012</td>\n",
       "      <td>350.0</td>\n",
       "      <td>J. Primorska</td>\n",
       "      <td>Piran</td>\n",
       "      <td>Piran</td>\n",
       "    </tr>\n",
       "    <tr>\n",
       "      <th>5684479</th>\n",
       "      <td>126.0</td>\n",
       "      <td>3-sobno</td>\n",
       "      <td>1933</td>\n",
       "      <td>1100.0</td>\n",
       "      <td>LJ-mesto</td>\n",
       "      <td>Lj. Center</td>\n",
       "      <td>Ljubljana</td>\n",
       "    </tr>\n",
       "    <tr>\n",
       "      <th>5837567</th>\n",
       "      <td>20.0</td>\n",
       "      <td>garsonjera</td>\n",
       "      <td>2017</td>\n",
       "      <td>400.0</td>\n",
       "      <td>LJ-okolica</td>\n",
       "      <td>Domžale</td>\n",
       "      <td>Domžale</td>\n",
       "    </tr>\n",
       "    <tr>\n",
       "      <th>...</th>\n",
       "      <td>...</td>\n",
       "      <td>...</td>\n",
       "      <td>...</td>\n",
       "      <td>...</td>\n",
       "      <td>...</td>\n",
       "      <td>...</td>\n",
       "      <td>...</td>\n",
       "    </tr>\n",
       "    <tr>\n",
       "      <th>6374194</th>\n",
       "      <td>62.6</td>\n",
       "      <td>2-sobno</td>\n",
       "      <td>2019</td>\n",
       "      <td>800.0</td>\n",
       "      <td>LJ-mesto</td>\n",
       "      <td>Lj. Center</td>\n",
       "      <td>Ljubljana</td>\n",
       "    </tr>\n",
       "    <tr>\n",
       "      <th>6374195</th>\n",
       "      <td>54.0</td>\n",
       "      <td>1,5-sobno</td>\n",
       "      <td>2019</td>\n",
       "      <td>700.0</td>\n",
       "      <td>LJ-mesto</td>\n",
       "      <td>Lj. Vič-Rudnik</td>\n",
       "      <td>Ljubljana</td>\n",
       "    </tr>\n",
       "    <tr>\n",
       "      <th>6374204</th>\n",
       "      <td>76.0</td>\n",
       "      <td>3-sobno</td>\n",
       "      <td>2018</td>\n",
       "      <td>950.0</td>\n",
       "      <td>LJ-mesto</td>\n",
       "      <td>Lj. Bežigrad</td>\n",
       "      <td>Ljubljana</td>\n",
       "    </tr>\n",
       "    <tr>\n",
       "      <th>6374205</th>\n",
       "      <td>52.0</td>\n",
       "      <td>3-sobno</td>\n",
       "      <td>2012</td>\n",
       "      <td>12.0</td>\n",
       "      <td>LJ-mesto</td>\n",
       "      <td>Lj. Center</td>\n",
       "      <td>Ljubljana</td>\n",
       "    </tr>\n",
       "    <tr>\n",
       "      <th>6374208</th>\n",
       "      <td>41.0</td>\n",
       "      <td>1,5-sobno</td>\n",
       "      <td>2000</td>\n",
       "      <td>450.0</td>\n",
       "      <td>LJ-mesto</td>\n",
       "      <td>Lj. Vič-Rudnik</td>\n",
       "      <td>Ljubljana</td>\n",
       "    </tr>\n",
       "  </tbody>\n",
       "</table>\n",
       "<p>1698 rows × 7 columns</p>\n",
       "</div>"
      ],
      "text/plain": [
       "         kvadratura         tip  leto    cena        regija          upravna  \\\n",
       "id                                                                             \n",
       "5568627        15.0        soba  2010   250.0       Koroška   Slovenj Gradec   \n",
       "5625423        70.0     apartma  2012    80.0  J. Primorska            Izola   \n",
       "5649165        18.0  garsonjera  2012   350.0  J. Primorska            Piran   \n",
       "5684479       126.0     3-sobno  1933  1100.0      LJ-mesto       Lj. Center   \n",
       "5837567        20.0  garsonjera  2017   400.0    LJ-okolica          Domžale   \n",
       "...             ...         ...   ...     ...           ...              ...   \n",
       "6374194        62.6     2-sobno  2019   800.0      LJ-mesto       Lj. Center   \n",
       "6374195        54.0   1,5-sobno  2019   700.0      LJ-mesto   Lj. Vič-Rudnik   \n",
       "6374204        76.0     3-sobno  2018   950.0      LJ-mesto     Lj. Bežigrad   \n",
       "6374205        52.0     3-sobno  2012    12.0      LJ-mesto       Lj. Center   \n",
       "6374208        41.0   1,5-sobno  2000   450.0      LJ-mesto   Lj. Vič-Rudnik   \n",
       "\n",
       "                 obcina  \n",
       "id                       \n",
       "5568627  Slovenj Gradec  \n",
       "5625423           Izola  \n",
       "5649165           Piran  \n",
       "5684479       Ljubljana  \n",
       "5837567         Domžale  \n",
       "...                 ...  \n",
       "6374194       Ljubljana  \n",
       "6374195       Ljubljana  \n",
       "6374204       Ljubljana  \n",
       "6374205       Ljubljana  \n",
       "6374208       Ljubljana  \n",
       "\n",
       "[1698 rows x 7 columns]"
      ]
     },
     "execution_count": 3,
     "metadata": {},
     "output_type": "execute_result"
    }
   ],
   "source": [
    "slo_stanovanja = Stanovanja[(Stanovanja.regija != 'Šibeniško-kninska') & (Stanovanja.regija != 'Istrska') & (Stanovanja.regija != 'Primorsko-goranska')]\n",
    "slo_stanovanja"
   ]
  },
  {
   "cell_type": "markdown",
   "metadata": {},
   "source": [
    "Zgornja razpredelnica prikazuje vse zbrane podatke, ki jih analiziramo v tej datoteki. "
   ]
  },
  {
   "cell_type": "markdown",
   "metadata": {},
   "source": [
    "## Vprašanja in hipoteze\n",
    "* Najdrazja najmenina na kvadraturo je na obali, takoj za tem pa ji sledi Ljubljana.\n",
    "\n",
    "* V katerih regijah se oddajajo največja stanovanja?\n",
    "\n",
    "* V kateri regiji je največ aktivnih oglasov?\n",
    "\n",
    "* Starejša stanovanja se oddajajo po višji ceni kot mlajša.\n",
    "\n",
    "* Kakšen vpliv ima tip stanovanja (število sob) na višino najemnine?\n",
    "\n",
    "* Stanovanja označena kot primerna za študente so dražja v primerjavi z ostalimi."
   ]
  },
  {
   "cell_type": "markdown",
   "metadata": {},
   "source": [
    "## Mesečna najmenina na $m^2$ po regijah\n",
    "V prvi točki nas zanima kako se mesečne najmenine aktivnih oglasov spreminjajo glede na regije. Podana hipoteza pravi, da so najemnine najvišje na južno primorskem, sledila pa naj bi ji ljubljanska regija."
   ]
  },
  {
   "cell_type": "markdown",
   "metadata": {},
   "source": [
    "Za začetek si poglejmo kakšne so povprečne najemnine na trenutnem trgu v Sloveniji."
   ]
  },
  {
   "cell_type": "code",
   "execution_count": 4,
   "metadata": {},
   "outputs": [
    {
     "data": {
      "text/plain": [
       "719.0"
      ]
     },
     "execution_count": 4,
     "metadata": {},
     "output_type": "execute_result"
    }
   ],
   "source": [
    "sum(slo_stanovanja.cena) // 1710"
   ]
  },
  {
   "cell_type": "code",
   "execution_count": 5,
   "metadata": {},
   "outputs": [
    {
     "data": {
      "text/plain": [
       "62.0"
      ]
     },
     "execution_count": 5,
     "metadata": {},
     "output_type": "execute_result"
    }
   ],
   "source": [
    "sum(slo_stanovanja.kvadratura) // 1710"
   ]
  },
  {
   "cell_type": "markdown",
   "metadata": {},
   "source": [
    "Povprečna mesečna najemnina stanovanja na strani *nepremičnine.net* je **719€**, povprečna kvadratura pa **62 $m^2$**."
   ]
  },
  {
   "cell_type": "code",
   "execution_count": 6,
   "metadata": {},
   "outputs": [],
   "source": [
    "Stanovanja['cena_kvad'] = (Stanovanja.cena // Stanovanja.kvadratura)\n",
    "slo_stanovanja = Stanovanja[(Stanovanja.regija != 'Šibeniško-kninska') & (Stanovanja.regija != 'Istrska') & (Stanovanja.regija != 'Primorsko-goranska')]"
   ]
  },
  {
   "cell_type": "code",
   "execution_count": 7,
   "metadata": {},
   "outputs": [
    {
     "data": {
      "text/plain": [
       "11.0"
      ]
     },
     "execution_count": 7,
     "metadata": {},
     "output_type": "execute_result"
    }
   ],
   "source": [
    "sum(slo_stanovanja.cena_kvad) // 1710"
   ]
  },
  {
   "cell_type": "markdown",
   "metadata": {},
   "source": [
    "Kvadratni meter se v Sloveniji v povprečju oddaja za **11€**."
   ]
  },
  {
   "cell_type": "markdown",
   "metadata": {},
   "source": [
    "V naslednji dveh tabelah so prikazane cene kvadratur najdražjih ter najcenejših 10 oglaševanih stanovanj."
   ]
  },
  {
   "cell_type": "code",
   "execution_count": 8,
   "metadata": {},
   "outputs": [
    {
     "data": {
      "text/html": [
       "<div>\n",
       "<style scoped>\n",
       "    .dataframe tbody tr th:only-of-type {\n",
       "        vertical-align: middle;\n",
       "    }\n",
       "\n",
       "    .dataframe tbody tr th {\n",
       "        vertical-align: top;\n",
       "    }\n",
       "\n",
       "    .dataframe thead th {\n",
       "        text-align: right;\n",
       "    }\n",
       "</style>\n",
       "<table border=\"1\" class=\"dataframe\">\n",
       "  <thead>\n",
       "    <tr style=\"text-align: right;\">\n",
       "      <th></th>\n",
       "      <th>cena_kvad</th>\n",
       "      <th>kvadratura</th>\n",
       "      <th>cena</th>\n",
       "      <th>regija</th>\n",
       "    </tr>\n",
       "    <tr>\n",
       "      <th>id</th>\n",
       "      <th></th>\n",
       "      <th></th>\n",
       "      <th></th>\n",
       "      <th></th>\n",
       "    </tr>\n",
       "  </thead>\n",
       "  <tbody>\n",
       "    <tr>\n",
       "      <th>6373737</th>\n",
       "      <td>100.0</td>\n",
       "      <td>12.00</td>\n",
       "      <td>1200.0</td>\n",
       "      <td>LJ-mesto</td>\n",
       "    </tr>\n",
       "    <tr>\n",
       "      <th>6349093</th>\n",
       "      <td>53.0</td>\n",
       "      <td>9.30</td>\n",
       "      <td>500.0</td>\n",
       "      <td>LJ-mesto</td>\n",
       "    </tr>\n",
       "    <tr>\n",
       "      <th>6349088</th>\n",
       "      <td>41.0</td>\n",
       "      <td>14.30</td>\n",
       "      <td>600.0</td>\n",
       "      <td>LJ-mesto</td>\n",
       "    </tr>\n",
       "    <tr>\n",
       "      <th>6339175</th>\n",
       "      <td>36.0</td>\n",
       "      <td>15.00</td>\n",
       "      <td>550.0</td>\n",
       "      <td>LJ-mesto</td>\n",
       "    </tr>\n",
       "    <tr>\n",
       "      <th>6356638</th>\n",
       "      <td>36.0</td>\n",
       "      <td>13.00</td>\n",
       "      <td>480.0</td>\n",
       "      <td>LJ-mesto</td>\n",
       "    </tr>\n",
       "    <tr>\n",
       "      <th>6350807</th>\n",
       "      <td>36.0</td>\n",
       "      <td>217.14</td>\n",
       "      <td>8000.0</td>\n",
       "      <td>LJ-mesto</td>\n",
       "    </tr>\n",
       "    <tr>\n",
       "      <th>6246807</th>\n",
       "      <td>34.0</td>\n",
       "      <td>7.00</td>\n",
       "      <td>240.0</td>\n",
       "      <td>LJ-mesto</td>\n",
       "    </tr>\n",
       "    <tr>\n",
       "      <th>6365383</th>\n",
       "      <td>33.0</td>\n",
       "      <td>18.00</td>\n",
       "      <td>600.0</td>\n",
       "      <td>LJ-mesto</td>\n",
       "    </tr>\n",
       "    <tr>\n",
       "      <th>6366498</th>\n",
       "      <td>33.0</td>\n",
       "      <td>50.00</td>\n",
       "      <td>1690.0</td>\n",
       "      <td>LJ-mesto</td>\n",
       "    </tr>\n",
       "    <tr>\n",
       "      <th>6350921</th>\n",
       "      <td>31.0</td>\n",
       "      <td>220.30</td>\n",
       "      <td>7000.0</td>\n",
       "      <td>LJ-mesto</td>\n",
       "    </tr>\n",
       "  </tbody>\n",
       "</table>\n",
       "</div>"
      ],
      "text/plain": [
       "         cena_kvad  kvadratura    cena    regija\n",
       "id                                              \n",
       "6373737      100.0       12.00  1200.0  LJ-mesto\n",
       "6349093       53.0        9.30   500.0  LJ-mesto\n",
       "6349088       41.0       14.30   600.0  LJ-mesto\n",
       "6339175       36.0       15.00   550.0  LJ-mesto\n",
       "6356638       36.0       13.00   480.0  LJ-mesto\n",
       "6350807       36.0      217.14  8000.0  LJ-mesto\n",
       "6246807       34.0        7.00   240.0  LJ-mesto\n",
       "6365383       33.0       18.00   600.0  LJ-mesto\n",
       "6366498       33.0       50.00  1690.0  LJ-mesto\n",
       "6350921       31.0      220.30  7000.0  LJ-mesto"
      ]
     },
     "execution_count": 8,
     "metadata": {},
     "output_type": "execute_result"
    }
   ],
   "source": [
    "slo_stanovanja[['cena_kvad', 'kvadratura', 'cena', 'regija']].sort_values('cena_kvad', ascending=False).head(10)"
   ]
  },
  {
   "cell_type": "code",
   "execution_count": 9,
   "metadata": {},
   "outputs": [
    {
     "data": {
      "text/html": [
       "<div>\n",
       "<style scoped>\n",
       "    .dataframe tbody tr th:only-of-type {\n",
       "        vertical-align: middle;\n",
       "    }\n",
       "\n",
       "    .dataframe tbody tr th {\n",
       "        vertical-align: top;\n",
       "    }\n",
       "\n",
       "    .dataframe thead th {\n",
       "        text-align: right;\n",
       "    }\n",
       "</style>\n",
       "<table border=\"1\" class=\"dataframe\">\n",
       "  <thead>\n",
       "    <tr style=\"text-align: right;\">\n",
       "      <th></th>\n",
       "      <th>cena_kvad</th>\n",
       "      <th>kvadratura</th>\n",
       "      <th>cena</th>\n",
       "      <th>regija</th>\n",
       "    </tr>\n",
       "    <tr>\n",
       "      <th>id</th>\n",
       "      <th></th>\n",
       "      <th></th>\n",
       "      <th></th>\n",
       "      <th></th>\n",
       "    </tr>\n",
       "  </thead>\n",
       "  <tbody>\n",
       "    <tr>\n",
       "      <th>6351729</th>\n",
       "      <td>1.0</td>\n",
       "      <td>100.3</td>\n",
       "      <td>160.0</td>\n",
       "      <td>Dolenjska</td>\n",
       "    </tr>\n",
       "    <tr>\n",
       "      <th>6366494</th>\n",
       "      <td>1.0</td>\n",
       "      <td>105.0</td>\n",
       "      <td>150.0</td>\n",
       "      <td>Podravska</td>\n",
       "    </tr>\n",
       "    <tr>\n",
       "      <th>5625423</th>\n",
       "      <td>1.0</td>\n",
       "      <td>70.0</td>\n",
       "      <td>80.0</td>\n",
       "      <td>J. Primorska</td>\n",
       "    </tr>\n",
       "    <tr>\n",
       "      <th>6369000</th>\n",
       "      <td>1.0</td>\n",
       "      <td>88.0</td>\n",
       "      <td>135.0</td>\n",
       "      <td>Podravska</td>\n",
       "    </tr>\n",
       "    <tr>\n",
       "      <th>6309763</th>\n",
       "      <td>1.0</td>\n",
       "      <td>100.0</td>\n",
       "      <td>100.0</td>\n",
       "      <td>Dolenjska</td>\n",
       "    </tr>\n",
       "    <tr>\n",
       "      <th>6372607</th>\n",
       "      <td>1.0</td>\n",
       "      <td>90.0</td>\n",
       "      <td>150.0</td>\n",
       "      <td>Savinjska</td>\n",
       "    </tr>\n",
       "    <tr>\n",
       "      <th>6359396</th>\n",
       "      <td>1.0</td>\n",
       "      <td>200.0</td>\n",
       "      <td>300.0</td>\n",
       "      <td>Savinjska</td>\n",
       "    </tr>\n",
       "    <tr>\n",
       "      <th>6361060</th>\n",
       "      <td>0.0</td>\n",
       "      <td>121.0</td>\n",
       "      <td>8.0</td>\n",
       "      <td>Savinjska</td>\n",
       "    </tr>\n",
       "    <tr>\n",
       "      <th>6317821</th>\n",
       "      <td>0.0</td>\n",
       "      <td>90.9</td>\n",
       "      <td>12.0</td>\n",
       "      <td>Savinjska</td>\n",
       "    </tr>\n",
       "    <tr>\n",
       "      <th>6374205</th>\n",
       "      <td>0.0</td>\n",
       "      <td>52.0</td>\n",
       "      <td>12.0</td>\n",
       "      <td>LJ-mesto</td>\n",
       "    </tr>\n",
       "  </tbody>\n",
       "</table>\n",
       "</div>"
      ],
      "text/plain": [
       "         cena_kvad  kvadratura   cena        regija\n",
       "id                                                 \n",
       "6351729        1.0       100.3  160.0     Dolenjska\n",
       "6366494        1.0       105.0  150.0     Podravska\n",
       "5625423        1.0        70.0   80.0  J. Primorska\n",
       "6369000        1.0        88.0  135.0     Podravska\n",
       "6309763        1.0       100.0  100.0     Dolenjska\n",
       "6372607        1.0        90.0  150.0     Savinjska\n",
       "6359396        1.0       200.0  300.0     Savinjska\n",
       "6361060        0.0       121.0    8.0     Savinjska\n",
       "6317821        0.0        90.9   12.0     Savinjska\n",
       "6374205        0.0        52.0   12.0      LJ-mesto"
      ]
     },
     "execution_count": 9,
     "metadata": {},
     "output_type": "execute_result"
    }
   ],
   "source": [
    "slo_stanovanja[['cena_kvad', 'kvadratura', 'cena', 'regija']].sort_values('cena_kvad', ascending=False).tail(10)"
   ]
  },
  {
   "cell_type": "markdown",
   "metadata": {},
   "source": [
    "Med najdražjimi stanovanji se pojavljajo tista iz ljubljanske regije, kar je v nasprotju s hipotezo. Dalje si bomo ogledali povprečja najemnin po regijah. Omejimo se na stanovanja, ki imajo najmenino nižjo od 60€ /$m^2$."
   ]
  },
  {
   "cell_type": "code",
   "execution_count": 10,
   "metadata": {},
   "outputs": [],
   "source": [
    "slo_stanovanja2 = slo_stanovanja[['cena_kvad', 'kvadratura', 'cena', 'regija']][slo_stanovanja.cena_kvad < 60].sort_values('cena_kvad', ascending=False)"
   ]
  },
  {
   "cell_type": "code",
   "execution_count": 11,
   "metadata": {},
   "outputs": [],
   "source": [
    "Stanovanja_po_regijah = slo_stanovanja2.groupby('regija')"
   ]
  },
  {
   "cell_type": "code",
   "execution_count": 12,
   "metadata": {},
   "outputs": [
    {
     "data": {
      "text/html": [
       "<div>\n",
       "<style scoped>\n",
       "    .dataframe tbody tr th:only-of-type {\n",
       "        vertical-align: middle;\n",
       "    }\n",
       "\n",
       "    .dataframe tbody tr th {\n",
       "        vertical-align: top;\n",
       "    }\n",
       "\n",
       "    .dataframe thead th {\n",
       "        text-align: right;\n",
       "    }\n",
       "</style>\n",
       "<table border=\"1\" class=\"dataframe\">\n",
       "  <thead>\n",
       "    <tr style=\"text-align: right;\">\n",
       "      <th></th>\n",
       "      <th>cena_kvad</th>\n",
       "      <th>kvadratura</th>\n",
       "      <th>cena</th>\n",
       "    </tr>\n",
       "    <tr>\n",
       "      <th>regija</th>\n",
       "      <th></th>\n",
       "      <th></th>\n",
       "      <th></th>\n",
       "    </tr>\n",
       "  </thead>\n",
       "  <tbody>\n",
       "    <tr>\n",
       "      <th>LJ-mesto</th>\n",
       "      <td>13.299369</td>\n",
       "      <td>66.698052</td>\n",
       "      <td>853.436429</td>\n",
       "    </tr>\n",
       "    <tr>\n",
       "      <th>J. Primorska</th>\n",
       "      <td>12.062500</td>\n",
       "      <td>50.646806</td>\n",
       "      <td>567.638889</td>\n",
       "    </tr>\n",
       "    <tr>\n",
       "      <th>LJ-okolica</th>\n",
       "      <td>10.192661</td>\n",
       "      <td>61.023119</td>\n",
       "      <td>547.981651</td>\n",
       "    </tr>\n",
       "    <tr>\n",
       "      <th>Gorenjska</th>\n",
       "      <td>9.906977</td>\n",
       "      <td>56.954651</td>\n",
       "      <td>532.558140</td>\n",
       "    </tr>\n",
       "    <tr>\n",
       "      <th>Koroška</th>\n",
       "      <td>9.555556</td>\n",
       "      <td>31.113333</td>\n",
       "      <td>250.888889</td>\n",
       "    </tr>\n",
       "    <tr>\n",
       "      <th>S.Primorska</th>\n",
       "      <td>8.600000</td>\n",
       "      <td>67.190000</td>\n",
       "      <td>452.500000</td>\n",
       "    </tr>\n",
       "    <tr>\n",
       "      <th>Notranjska</th>\n",
       "      <td>8.125000</td>\n",
       "      <td>48.290000</td>\n",
       "      <td>338.125000</td>\n",
       "    </tr>\n",
       "    <tr>\n",
       "      <th>Podravska</th>\n",
       "      <td>7.901235</td>\n",
       "      <td>57.987407</td>\n",
       "      <td>436.839506</td>\n",
       "    </tr>\n",
       "    <tr>\n",
       "      <th>Dolenjska</th>\n",
       "      <td>7.072727</td>\n",
       "      <td>52.134545</td>\n",
       "      <td>335.545455</td>\n",
       "    </tr>\n",
       "    <tr>\n",
       "      <th>Savinjska</th>\n",
       "      <td>6.860000</td>\n",
       "      <td>63.734000</td>\n",
       "      <td>388.100000</td>\n",
       "    </tr>\n",
       "    <tr>\n",
       "      <th>Pomurska</th>\n",
       "      <td>5.733333</td>\n",
       "      <td>58.346667</td>\n",
       "      <td>354.066667</td>\n",
       "    </tr>\n",
       "    <tr>\n",
       "      <th>Posavska</th>\n",
       "      <td>5.705882</td>\n",
       "      <td>64.920588</td>\n",
       "      <td>366.235294</td>\n",
       "    </tr>\n",
       "    <tr>\n",
       "      <th>Vse regije</th>\n",
       "      <td>5.000000</td>\n",
       "      <td>66.500000</td>\n",
       "      <td>375.000000</td>\n",
       "    </tr>\n",
       "    <tr>\n",
       "      <th>Zasavska</th>\n",
       "      <td>4.500000</td>\n",
       "      <td>58.000000</td>\n",
       "      <td>300.000000</td>\n",
       "    </tr>\n",
       "  </tbody>\n",
       "</table>\n",
       "</div>"
      ],
      "text/plain": [
       "              cena_kvad  kvadratura        cena\n",
       "regija                                         \n",
       "LJ-mesto      13.299369   66.698052  853.436429\n",
       "J. Primorska  12.062500   50.646806  567.638889\n",
       "LJ-okolica    10.192661   61.023119  547.981651\n",
       "Gorenjska      9.906977   56.954651  532.558140\n",
       "Koroška        9.555556   31.113333  250.888889\n",
       "S.Primorska    8.600000   67.190000  452.500000\n",
       "Notranjska     8.125000   48.290000  338.125000\n",
       "Podravska      7.901235   57.987407  436.839506\n",
       "Dolenjska      7.072727   52.134545  335.545455\n",
       "Savinjska      6.860000   63.734000  388.100000\n",
       "Pomurska       5.733333   58.346667  354.066667\n",
       "Posavska       5.705882   64.920588  366.235294\n",
       "Vse regije     5.000000   66.500000  375.000000\n",
       "Zasavska       4.500000   58.000000  300.000000"
      ]
     },
     "execution_count": 12,
     "metadata": {},
     "output_type": "execute_result"
    }
   ],
   "source": [
    "Stanovanja_po_regijah.mean()[['cena_kvad', 'kvadratura', 'cena']].sort_values('cena_kvad', ascending=False)"
   ]
  },
  {
   "cell_type": "markdown",
   "metadata": {},
   "source": [
    "V nasprotju s hipotezi je cena kvadratnega metra višja v Ljubljani(mesto) kot ob obali, vendar so na južno-primorskem najemnine višje kot v okolici Ljubljane, zato lahko povzamemo, da je naša hipoteza le delno veljala. Mesto Ljubljana in južna primorska sta edini regiji, ki po naših podatkih segata nad slovensko povprečje cene kvadrature, ki je **11€ / $m^2$**.\n",
    "\n",
    "Za boljšo predstavo si poglejmo še gref, ki kaže najemnino na kvadraturo v odvisnosti od velikosti stanovanja."
   ]
  },
  {
   "cell_type": "code",
   "execution_count": 13,
   "metadata": {},
   "outputs": [
    {
     "data": {
      "text/plain": [
       "<AxesSubplot:xlabel='kvadratura', ylabel='cena_kvad'>"
      ]
     },
     "execution_count": 13,
     "metadata": {},
     "output_type": "execute_result"
    },
    {
     "data": {
      "image/png": "[encoded data removed]",
      "text/plain": [
       "<Figure size 1080x504 with 1 Axes>"
      ]
     },
     "metadata": {
      "needs_background": "light"
     },
     "output_type": "display_data"
    }
   ],
   "source": [
    "ax = slo_stanovanja2.plot.scatter(y='cena_kvad', x='kvadratura', color='Grey', label='ostalo')\n",
    "slo_stanovanja2[slo_stanovanja2.regija == 'LJ-mesto'].plot.scatter(y='cena_kvad', x='kvadratura', color='Yellow', label='LJ-mesto', ax=ax)\n",
    "slo_stanovanja2[slo_stanovanja2.regija == 'J. Primorska'].plot.scatter(y='cena_kvad', x='kvadratura', color='Green', label='J.Primorska', ax=ax)\n",
    "slo_stanovanja2[slo_stanovanja2.regija == 'Posavska'].plot.scatter(y='cena_kvad', x='kvadratura', color='Blue', label='Posavska', ax=ax)\n",
    "slo_stanovanja2[slo_stanovanja2.regija == 'Dolenjska'].plot.scatter(y='cena_kvad', x='kvadratura', color='Red', label='Dolenjska', ax=ax)\n",
    "slo_stanovanja2[slo_stanovanja2.regija == 'Koroška'].plot.scatter(y='cena_kvad', x='kvadratura', color='Orange', label='Koroška', ax=ax, figsize=(15,7))\n"
   ]
  },
  {
   "cell_type": "markdown",
   "metadata": {},
   "source": [
    "Iz grafa je lepo vidno, da so cene v Ljubljani(*rumena*) ter ob obali(*zelena*) veliko višje kot drugod po Sloveniji. Opazimo tudi, da se cena najema kvadrature niža z velikostjo stanovanj."
   ]
  },
  {
   "cell_type": "markdown",
   "metadata": {},
   "source": [
    "## Povprečna površina stanovanja po regijah\n",
    "Opazovali bomo kakšna je povprečna površina stanovanj po posameznih regijah. V prejšnjem poglavju smo ugotovili, da je povprečna kvadratura vseh stanovanj **62 $m^2$**."
   ]
  },
  {
   "cell_type": "code",
   "execution_count": 14,
   "metadata": {},
   "outputs": [
    {
     "data": {
      "text/html": [
       "<div>\n",
       "<style scoped>\n",
       "    .dataframe tbody tr th:only-of-type {\n",
       "        vertical-align: middle;\n",
       "    }\n",
       "\n",
       "    .dataframe tbody tr th {\n",
       "        vertical-align: top;\n",
       "    }\n",
       "\n",
       "    .dataframe thead th {\n",
       "        text-align: right;\n",
       "    }\n",
       "</style>\n",
       "<table border=\"1\" class=\"dataframe\">\n",
       "  <thead>\n",
       "    <tr style=\"text-align: right;\">\n",
       "      <th></th>\n",
       "      <th>kvadratura</th>\n",
       "    </tr>\n",
       "    <tr>\n",
       "      <th>regija</th>\n",
       "      <th></th>\n",
       "    </tr>\n",
       "  </thead>\n",
       "  <tbody>\n",
       "    <tr>\n",
       "      <th>S.Primorska</th>\n",
       "      <td>67.190000</td>\n",
       "    </tr>\n",
       "    <tr>\n",
       "      <th>LJ-mesto</th>\n",
       "      <td>66.698052</td>\n",
       "    </tr>\n",
       "    <tr>\n",
       "      <th>Vse regije</th>\n",
       "      <td>66.500000</td>\n",
       "    </tr>\n",
       "    <tr>\n",
       "      <th>Posavska</th>\n",
       "      <td>64.920588</td>\n",
       "    </tr>\n",
       "    <tr>\n",
       "      <th>Savinjska</th>\n",
       "      <td>63.734000</td>\n",
       "    </tr>\n",
       "    <tr>\n",
       "      <th>LJ-okolica</th>\n",
       "      <td>61.023119</td>\n",
       "    </tr>\n",
       "    <tr>\n",
       "      <th>Pomurska</th>\n",
       "      <td>58.346667</td>\n",
       "    </tr>\n",
       "    <tr>\n",
       "      <th>Zasavska</th>\n",
       "      <td>58.000000</td>\n",
       "    </tr>\n",
       "    <tr>\n",
       "      <th>Podravska</th>\n",
       "      <td>57.987407</td>\n",
       "    </tr>\n",
       "    <tr>\n",
       "      <th>Gorenjska</th>\n",
       "      <td>56.954651</td>\n",
       "    </tr>\n",
       "    <tr>\n",
       "      <th>Dolenjska</th>\n",
       "      <td>52.134545</td>\n",
       "    </tr>\n",
       "    <tr>\n",
       "      <th>J. Primorska</th>\n",
       "      <td>50.646806</td>\n",
       "    </tr>\n",
       "    <tr>\n",
       "      <th>Notranjska</th>\n",
       "      <td>48.290000</td>\n",
       "    </tr>\n",
       "    <tr>\n",
       "      <th>Koroška</th>\n",
       "      <td>31.113333</td>\n",
       "    </tr>\n",
       "  </tbody>\n",
       "</table>\n",
       "</div>"
      ],
      "text/plain": [
       "              kvadratura\n",
       "regija                  \n",
       "S.Primorska    67.190000\n",
       "LJ-mesto       66.698052\n",
       "Vse regije     66.500000\n",
       "Posavska       64.920588\n",
       "Savinjska      63.734000\n",
       "LJ-okolica     61.023119\n",
       "Pomurska       58.346667\n",
       "Zasavska       58.000000\n",
       "Podravska      57.987407\n",
       "Gorenjska      56.954651\n",
       "Dolenjska      52.134545\n",
       "J. Primorska   50.646806\n",
       "Notranjska     48.290000\n",
       "Koroška        31.113333"
      ]
     },
     "execution_count": 14,
     "metadata": {},
     "output_type": "execute_result"
    }
   ],
   "source": [
    "Stanovanja_po_regijah.mean()[['kvadratura']].sort_values('kvadratura', ascending=False)"
   ]
  },
  {
   "cell_type": "markdown",
   "metadata": {},
   "source": [
    "Največja so stanovanja na severno-primorskem ter v Ljubljani. Na dno lestvice spadajo koroška in notranjska regija"
   ]
  },
  {
   "cell_type": "markdown",
   "metadata": {},
   "source": [
    "V prejšnjem poglavju smo opazili, da cena kvadrature pada ze velikostjo stanovanj. Zanima nas ali obstaja povezava med višino povprečne najemnine kvadrature ter povprečno velikostjo stanovanja v regiji."
   ]
  },
  {
   "cell_type": "code",
   "execution_count": 15,
   "metadata": {},
   "outputs": [
    {
     "data": {
      "text/html": [
       "<div>\n",
       "<style scoped>\n",
       "    .dataframe tbody tr th:only-of-type {\n",
       "        vertical-align: middle;\n",
       "    }\n",
       "\n",
       "    .dataframe tbody tr th {\n",
       "        vertical-align: top;\n",
       "    }\n",
       "\n",
       "    .dataframe thead th {\n",
       "        text-align: right;\n",
       "    }\n",
       "</style>\n",
       "<table border=\"1\" class=\"dataframe\">\n",
       "  <thead>\n",
       "    <tr style=\"text-align: right;\">\n",
       "      <th></th>\n",
       "      <th>cena_kvad</th>\n",
       "      <th>kvadratura</th>\n",
       "    </tr>\n",
       "    <tr>\n",
       "      <th>regija</th>\n",
       "      <th></th>\n",
       "      <th></th>\n",
       "    </tr>\n",
       "  </thead>\n",
       "  <tbody>\n",
       "    <tr>\n",
       "      <th>S.Primorska</th>\n",
       "      <td>8.600000</td>\n",
       "      <td>67.190000</td>\n",
       "    </tr>\n",
       "    <tr>\n",
       "      <th>LJ-mesto</th>\n",
       "      <td>13.299369</td>\n",
       "      <td>66.698052</td>\n",
       "    </tr>\n",
       "    <tr>\n",
       "      <th>Vse regije</th>\n",
       "      <td>5.000000</td>\n",
       "      <td>66.500000</td>\n",
       "    </tr>\n",
       "    <tr>\n",
       "      <th>Posavska</th>\n",
       "      <td>5.705882</td>\n",
       "      <td>64.920588</td>\n",
       "    </tr>\n",
       "    <tr>\n",
       "      <th>Savinjska</th>\n",
       "      <td>6.860000</td>\n",
       "      <td>63.734000</td>\n",
       "    </tr>\n",
       "    <tr>\n",
       "      <th>LJ-okolica</th>\n",
       "      <td>10.192661</td>\n",
       "      <td>61.023119</td>\n",
       "    </tr>\n",
       "    <tr>\n",
       "      <th>Pomurska</th>\n",
       "      <td>5.733333</td>\n",
       "      <td>58.346667</td>\n",
       "    </tr>\n",
       "    <tr>\n",
       "      <th>Zasavska</th>\n",
       "      <td>4.500000</td>\n",
       "      <td>58.000000</td>\n",
       "    </tr>\n",
       "    <tr>\n",
       "      <th>Podravska</th>\n",
       "      <td>7.901235</td>\n",
       "      <td>57.987407</td>\n",
       "    </tr>\n",
       "    <tr>\n",
       "      <th>Gorenjska</th>\n",
       "      <td>9.906977</td>\n",
       "      <td>56.954651</td>\n",
       "    </tr>\n",
       "    <tr>\n",
       "      <th>Dolenjska</th>\n",
       "      <td>7.072727</td>\n",
       "      <td>52.134545</td>\n",
       "    </tr>\n",
       "    <tr>\n",
       "      <th>J. Primorska</th>\n",
       "      <td>12.062500</td>\n",
       "      <td>50.646806</td>\n",
       "    </tr>\n",
       "    <tr>\n",
       "      <th>Notranjska</th>\n",
       "      <td>8.125000</td>\n",
       "      <td>48.290000</td>\n",
       "    </tr>\n",
       "    <tr>\n",
       "      <th>Koroška</th>\n",
       "      <td>9.555556</td>\n",
       "      <td>31.113333</td>\n",
       "    </tr>\n",
       "  </tbody>\n",
       "</table>\n",
       "</div>"
      ],
      "text/plain": [
       "              cena_kvad  kvadratura\n",
       "regija                             \n",
       "S.Primorska    8.600000   67.190000\n",
       "LJ-mesto      13.299369   66.698052\n",
       "Vse regije     5.000000   66.500000\n",
       "Posavska       5.705882   64.920588\n",
       "Savinjska      6.860000   63.734000\n",
       "LJ-okolica    10.192661   61.023119\n",
       "Pomurska       5.733333   58.346667\n",
       "Zasavska       4.500000   58.000000\n",
       "Podravska      7.901235   57.987407\n",
       "Gorenjska      9.906977   56.954651\n",
       "Dolenjska      7.072727   52.134545\n",
       "J. Primorska  12.062500   50.646806\n",
       "Notranjska     8.125000   48.290000\n",
       "Koroška        9.555556   31.113333"
      ]
     },
     "execution_count": 15,
     "metadata": {},
     "output_type": "execute_result"
    }
   ],
   "source": [
    "Stanovanja_po_regijah.mean()[['cena_kvad', 'kvadratura']].sort_values('kvadratura', ascending=False)"
   ]
  },
  {
   "cell_type": "code",
   "execution_count": 16,
   "metadata": {},
   "outputs": [
    {
     "data": {
      "text/plain": [
       "<AxesSubplot:ylabel='regija'>"
      ]
     },
     "execution_count": 16,
     "metadata": {},
     "output_type": "execute_result"
    },
    {
     "data": {
      "image/png": "[encoded data removed]",
      "text/plain": [
       "<Figure size 1008x720 with 1 Axes>"
      ]
     },
     "metadata": {
      "needs_background": "light"
     },
     "output_type": "display_data"
    }
   ],
   "source": [
    "Stanovanja_po_regijah.mean()[['cena_kvad', 'kvadratura']].sort_values('kvadratura', ascending=True).plot.barh(figsize=(14,10))"
   ]
  },
  {
   "cell_type": "markdown",
   "metadata": {},
   "source": [
    "Iz grafa opazimo, da se v mestu Ljubljana oddajajo med največjimi in tudi najdražjimi stanovanji. Opazna razlika med velikostjo in ceno je na obali, kjer so v oddaji draga in majhna stanovanja. Sklepamo, da je razlog za to oddaja stanovanj v namen turizma.\n",
    "\n",
    "Iz podatkov je razvidno, da višina najemnin ne vpliva na velikost stanovanj v oddaji."
   ]
  },
  {
   "cell_type": "markdown",
   "metadata": {},
   "source": [
    "## Število aktivnih oglasov po regijah\n",
    "Pričakujemo, da je največ aktivnih oglasov v regijah kjer je velika ponudba in povpraševanje, torej kjer je tudi višja cena najemnin, tj. v ljubljanski in južno primorski regiji."
   ]
  },
  {
   "cell_type": "code",
   "execution_count": 17,
   "metadata": {},
   "outputs": [
    {
     "data": {
      "text/html": [
       "<div>\n",
       "<style scoped>\n",
       "    .dataframe tbody tr th:only-of-type {\n",
       "        vertical-align: middle;\n",
       "    }\n",
       "\n",
       "    .dataframe tbody tr th {\n",
       "        vertical-align: top;\n",
       "    }\n",
       "\n",
       "    .dataframe thead th {\n",
       "        text-align: right;\n",
       "    }\n",
       "</style>\n",
       "<table border=\"1\" class=\"dataframe\">\n",
       "  <thead>\n",
       "    <tr style=\"text-align: right;\">\n",
       "      <th></th>\n",
       "      <th>upravna</th>\n",
       "    </tr>\n",
       "    <tr>\n",
       "      <th>regija</th>\n",
       "      <th></th>\n",
       "    </tr>\n",
       "  </thead>\n",
       "  <tbody>\n",
       "    <tr>\n",
       "      <th>LJ-mesto</th>\n",
       "      <td>1110</td>\n",
       "    </tr>\n",
       "    <tr>\n",
       "      <th>J. Primorska</th>\n",
       "      <td>144</td>\n",
       "    </tr>\n",
       "    <tr>\n",
       "      <th>LJ-okolica</th>\n",
       "      <td>109</td>\n",
       "    </tr>\n",
       "    <tr>\n",
       "      <th>Gorenjska</th>\n",
       "      <td>86</td>\n",
       "    </tr>\n",
       "    <tr>\n",
       "      <th>Podravska</th>\n",
       "      <td>81</td>\n",
       "    </tr>\n",
       "    <tr>\n",
       "      <th>Dolenjska</th>\n",
       "      <td>55</td>\n",
       "    </tr>\n",
       "    <tr>\n",
       "      <th>Savinjska</th>\n",
       "      <td>50</td>\n",
       "    </tr>\n",
       "    <tr>\n",
       "      <th>Posavska</th>\n",
       "      <td>17</td>\n",
       "    </tr>\n",
       "    <tr>\n",
       "      <th>Pomurska</th>\n",
       "      <td>15</td>\n",
       "    </tr>\n",
       "    <tr>\n",
       "      <th>S.Primorska</th>\n",
       "      <td>10</td>\n",
       "    </tr>\n",
       "    <tr>\n",
       "      <th>Koroška</th>\n",
       "      <td>9</td>\n",
       "    </tr>\n",
       "    <tr>\n",
       "      <th>Notranjska</th>\n",
       "      <td>8</td>\n",
       "    </tr>\n",
       "    <tr>\n",
       "      <th>Vse regije</th>\n",
       "      <td>2</td>\n",
       "    </tr>\n",
       "    <tr>\n",
       "      <th>Zasavska</th>\n",
       "      <td>2</td>\n",
       "    </tr>\n",
       "  </tbody>\n",
       "</table>\n",
       "</div>"
      ],
      "text/plain": [
       "              upravna\n",
       "regija               \n",
       "LJ-mesto         1110\n",
       "J. Primorska      144\n",
       "LJ-okolica        109\n",
       "Gorenjska          86\n",
       "Podravska          81\n",
       "Dolenjska          55\n",
       "Savinjska          50\n",
       "Posavska           17\n",
       "Pomurska           15\n",
       "S.Primorska        10\n",
       "Koroška             9\n",
       "Notranjska          8\n",
       "Vse regije          2\n",
       "Zasavska            2"
      ]
     },
     "execution_count": 17,
     "metadata": {},
     "output_type": "execute_result"
    }
   ],
   "source": [
    "po_regijah = slo_stanovanja[['regija', 'upravna']].groupby('regija').count().sort_values('upravna', ascending=False)\n",
    "po_regijah"
   ]
  },
  {
   "cell_type": "code",
   "execution_count": 18,
   "metadata": {},
   "outputs": [
    {
     "data": {
      "text/plain": [
       "<matplotlib.legend.Legend at 0x174d2820>"
      ]
     },
     "execution_count": 18,
     "metadata": {},
     "output_type": "execute_result"
    },
    {
     "data": {
      "image/png": "[encoded data removed]",
      "text/plain": [
       "<Figure size 720x720 with 1 Axes>"
      ]
     },
     "metadata": {},
     "output_type": "display_data"
    }
   ],
   "source": [
    "explode = (0.1, 0.1, 0.1, 0.1, 0.1, 0.1, 0.1, 0.1, 0.1, 0.1, 0.1, 0.1, 0.1, 0.1)\n",
    "plt = po_regijah.plot.pie(y='upravna', figsize=(10, 10), shadow=True, startangle=0, labeldistance=None, explode=explode)\n",
    "plt.legend(loc=\"upper left\")"
   ]
  },
  {
   "cell_type": "markdown",
   "metadata": {},
   "source": [
    "Naša hipoteza drži, največ aktivnih oglasov je v Ljubljani in ob obali. Iz grafikona je razvidno, da je ponudba po slovenskih regijah zelo neenakomerna. Razlog za to je najverjetneje neenakomerna poseljenost Slovenije in morda razlika v bivalnih standardih. Povpraševanje po stanovanjih je najvišje v Ljubljani, kjer je tudi gostota naselitve največja. V drugih regijah prevladuje podeželje kjer ljudje večinoma živijo v hišah, zato je tu manj aktivnih oglasov."
   ]
  },
  {
   "cell_type": "markdown",
   "metadata": {},
   "source": [
    "## Najemnine v mestni občini Ljubljana\n",
    "Opazili smo, da ima lokacija velik vpliv na cene najemnin zato bi lahko razlike po regijah vplivale na naše rezulate. V nadaljni analizi se omejimo le na eno regijo. Obravnavali bomo ljubljansko regijo, ki ima tudi največ aktivnih oglasov."
   ]
  },
  {
   "cell_type": "markdown",
   "metadata": {},
   "source": [
    "### Vpliv števila sob na najemnino"
   ]
  },
  {
   "cell_type": "markdown",
   "metadata": {},
   "source": [
    "Za začetek si poglejmo koliko sobna stanovanja so v Ljubljani najbolj ponujena."
   ]
  },
  {
   "cell_type": "code",
   "execution_count": 19,
   "metadata": {},
   "outputs": [],
   "source": [
    "stanovanja_lj = Stanovanja[Stanovanja.regija == 'LJ-mesto']"
   ]
  },
  {
   "cell_type": "code",
   "execution_count": 20,
   "metadata": {},
   "outputs": [],
   "source": [
    "stanovanja_sobe = stanovanja_lj[(stanovanja_lj.tip != 'apartma') & (stanovanja_lj.tip != '1-sobni nadstandardni apartma') & (stanovanja_lj.tip != 'nadstandardna soba') & (stanovanja_lj.tip != 'stanovanje') & (stanovanja_lj.tip != '2- sobno')]"
   ]
  },
  {
   "cell_type": "code",
   "execution_count": 21,
   "metadata": {},
   "outputs": [
    {
     "data": {
      "text/html": [
       "<div>\n",
       "<style scoped>\n",
       "    .dataframe tbody tr th:only-of-type {\n",
       "        vertical-align: middle;\n",
       "    }\n",
       "\n",
       "    .dataframe tbody tr th {\n",
       "        vertical-align: top;\n",
       "    }\n",
       "\n",
       "    .dataframe thead th {\n",
       "        text-align: right;\n",
       "    }\n",
       "</style>\n",
       "<table border=\"1\" class=\"dataframe\">\n",
       "  <thead>\n",
       "    <tr style=\"text-align: right;\">\n",
       "      <th></th>\n",
       "      <th>upravna</th>\n",
       "    </tr>\n",
       "    <tr>\n",
       "      <th>tip</th>\n",
       "      <th></th>\n",
       "    </tr>\n",
       "  </thead>\n",
       "  <tbody>\n",
       "    <tr>\n",
       "      <th>3-sobno</th>\n",
       "      <td>229</td>\n",
       "    </tr>\n",
       "    <tr>\n",
       "      <th>2-sobno</th>\n",
       "      <td>221</td>\n",
       "    </tr>\n",
       "    <tr>\n",
       "      <th>soba</th>\n",
       "      <td>151</td>\n",
       "    </tr>\n",
       "    <tr>\n",
       "      <th>garsonjera</th>\n",
       "      <td>132</td>\n",
       "    </tr>\n",
       "    <tr>\n",
       "      <th>1-sobno</th>\n",
       "      <td>110</td>\n",
       "    </tr>\n",
       "    <tr>\n",
       "      <th>4-sobno</th>\n",
       "      <td>96</td>\n",
       "    </tr>\n",
       "    <tr>\n",
       "      <th>2,5-sobno</th>\n",
       "      <td>62</td>\n",
       "    </tr>\n",
       "    <tr>\n",
       "      <th>1,5-sobno</th>\n",
       "      <td>41</td>\n",
       "    </tr>\n",
       "    <tr>\n",
       "      <th>3,5-sobno</th>\n",
       "      <td>39</td>\n",
       "    </tr>\n",
       "    <tr>\n",
       "      <th>5 in večsobno</th>\n",
       "      <td>16</td>\n",
       "    </tr>\n",
       "    <tr>\n",
       "      <th>4,5-sobno</th>\n",
       "      <td>4</td>\n",
       "    </tr>\n",
       "  </tbody>\n",
       "</table>\n",
       "</div>"
      ],
      "text/plain": [
       "               upravna\n",
       "tip                   \n",
       "3-sobno            229\n",
       "2-sobno            221\n",
       "soba               151\n",
       "garsonjera         132\n",
       "1-sobno            110\n",
       "4-sobno             96\n",
       "2,5-sobno           62\n",
       "1,5-sobno           41\n",
       "3,5-sobno           39\n",
       "5 in večsobno       16\n",
       "4,5-sobno            4"
      ]
     },
     "execution_count": 21,
     "metadata": {},
     "output_type": "execute_result"
    }
   ],
   "source": [
    "stanovanja_sobe[stanovanja_sobe.regija == 'LJ-mesto'].groupby('tip').count()[['upravna']].sort_values('upravna', ascending=False)"
   ]
  },
  {
   "cell_type": "markdown",
   "metadata": {},
   "source": [
    "Najbolj oglaševana so 3 in 2-sobna stanovanja, najverjetneje za to ker so primerna za večino 4-članskih družin. Veliko oglasov je tudi za sobe in garsonjere. Predvidevamo, da je razlog za to, to da je Ljubljana univerzitetno središče Slovenije in posledično veliko študentov v Ljubljani išče prebivališče.\n",
    "Najmanj aktivnih oglasov je za več kot 4 sobna stanovanja."
   ]
  },
  {
   "cell_type": "markdown",
   "metadata": {},
   "source": [
    "Zanima nas kako tip stanovanja vpliva na ceno kvadrature. Na podlagi števila aktivnih oglasov posameznih tipov stanovanj pričakujemo, da bo cena kvadrature največja za 4,5 in 5-sobna stanovanja, saj je tudi povpraševanja zanj najmanj, ter sumimo, da mednje spadajo luksuzna stanovanja, ki so seveda tudi dražja.\n",
    "Najnižje cene pričakujemo pri sobah ter garsonjerah, saj so ta najverjetneje namenjena študentom, ki nimajo tako veliki finančnih zmožnosti."
   ]
  },
  {
   "cell_type": "code",
   "execution_count": 22,
   "metadata": {},
   "outputs": [
    {
     "data": {
      "text/html": [
       "<div>\n",
       "<style scoped>\n",
       "    .dataframe tbody tr th:only-of-type {\n",
       "        vertical-align: middle;\n",
       "    }\n",
       "\n",
       "    .dataframe tbody tr th {\n",
       "        vertical-align: top;\n",
       "    }\n",
       "\n",
       "    .dataframe thead th {\n",
       "        text-align: right;\n",
       "    }\n",
       "</style>\n",
       "<table border=\"1\" class=\"dataframe\">\n",
       "  <thead>\n",
       "    <tr style=\"text-align: right;\">\n",
       "      <th></th>\n",
       "      <th>cena_kvad</th>\n",
       "    </tr>\n",
       "    <tr>\n",
       "      <th>tip</th>\n",
       "      <th></th>\n",
       "    </tr>\n",
       "  </thead>\n",
       "  <tbody>\n",
       "    <tr>\n",
       "      <th>garsonjera</th>\n",
       "      <td>16.363636</td>\n",
       "    </tr>\n",
       "    <tr>\n",
       "      <th>soba</th>\n",
       "      <td>15.635762</td>\n",
       "    </tr>\n",
       "    <tr>\n",
       "      <th>5 in večsobno</th>\n",
       "      <td>15.375000</td>\n",
       "    </tr>\n",
       "    <tr>\n",
       "      <th>1-sobno</th>\n",
       "      <td>13.500000</td>\n",
       "    </tr>\n",
       "    <tr>\n",
       "      <th>1,5-sobno</th>\n",
       "      <td>13.146341</td>\n",
       "    </tr>\n",
       "    <tr>\n",
       "      <th>3,5-sobno</th>\n",
       "      <td>12.461538</td>\n",
       "    </tr>\n",
       "    <tr>\n",
       "      <th>2-sobno</th>\n",
       "      <td>12.420814</td>\n",
       "    </tr>\n",
       "    <tr>\n",
       "      <th>4-sobno</th>\n",
       "      <td>12.416667</td>\n",
       "    </tr>\n",
       "    <tr>\n",
       "      <th>2,5-sobno</th>\n",
       "      <td>12.032258</td>\n",
       "    </tr>\n",
       "    <tr>\n",
       "      <th>3-sobno</th>\n",
       "      <td>11.851528</td>\n",
       "    </tr>\n",
       "    <tr>\n",
       "      <th>4,5-sobno</th>\n",
       "      <td>10.750000</td>\n",
       "    </tr>\n",
       "  </tbody>\n",
       "</table>\n",
       "</div>"
      ],
      "text/plain": [
       "               cena_kvad\n",
       "tip                     \n",
       "garsonjera     16.363636\n",
       "soba           15.635762\n",
       "5 in večsobno  15.375000\n",
       "1-sobno        13.500000\n",
       "1,5-sobno      13.146341\n",
       "3,5-sobno      12.461538\n",
       "2-sobno        12.420814\n",
       "4-sobno        12.416667\n",
       "2,5-sobno      12.032258\n",
       "3-sobno        11.851528\n",
       "4,5-sobno      10.750000"
      ]
     },
     "execution_count": 22,
     "metadata": {},
     "output_type": "execute_result"
    }
   ],
   "source": [
    "preurejen = stanovanja_sobe[stanovanja_sobe.regija == 'LJ-mesto']\n",
    "tip = preurejen.groupby('tip').mean()[['cena_kvad']].sort_values('cena_kvad', ascending=False)\n",
    "tip"
   ]
  },
  {
   "cell_type": "markdown",
   "metadata": {},
   "source": [
    "V nasprotju s hipotezo se kot najdražje oddajajo garsonjere in sobe, ki bi po naši predpostavki morale biti najcenejše. Sledijo jim 5 in večsobna stanovanja, najcenejša pa so presenetljivo 4,5 sobna stanovanja z **10,75€ / $m^2$** kar je celo pod slovenskim povprečjem (glej poglavje 1)."
   ]
  },
  {
   "cell_type": "code",
   "execution_count": 31,
   "metadata": {},
   "outputs": [
    {
     "data": {
      "text/plain": [
       "<AxesSubplot:xlabel='tip'>"
      ]
     },
     "execution_count": 31,
     "metadata": {},
     "output_type": "execute_result"
    },
    {
     "data": {
      "image/png": "[encoded data removed]",
      "text/plain": [
       "<Figure size 720x576 with 1 Axes>"
      ]
     },
     "metadata": {
      "needs_background": "light"
     },
     "output_type": "display_data"
    }
   ],
   "source": [
    "custom_dict = {'soba': 0, 'garsonjera': 1, '1,5-sobno': 2, '1-sobno': 3, '2-sobno': 4,'2,5-sobno': 5,'3-sobno': 6,'3,5-sobno': 7, '4-sobno': 8, '4,5-sobno': 9, '5 in večsobno': 10}\n",
    "\n",
    "tip.sort_index(key=lambda x: x.map(custom_dict)).plot.bar(figsize=(10,8))"
   ]
  },
  {
   "cell_type": "markdown",
   "metadata": {},
   "source": [
    "Iz grafa je razvidno to, da z večanjem števila sob cena nekoliko pada, kar bi lahko povezali s tem, da cena kvadrature pada z velikostjo stanovanj. To pa ne velja za 5 in večsobna stanovanja, ki so opazno dražja kot preostala večsobna stanovanja. Ponovno sklepamo, da je razlog za to, da mednje večinoma spadajo luksuzna stanovanja, namenjena premožnejšim najemnikom."
   ]
  },
  {
   "cell_type": "markdown",
   "metadata": {},
   "source": [
    "### Vpliv starosti stanovanj na višino najemnine\n",
    "Obravnavali bomo odvisnost višine najemnin od starosti stanovanj. Podamo hipotezo, da so starejša stanovanja v povprečju cenejša, saj so energetsko manj učinkovita, težja za vzdrževanje in večinoma težje dostopna (nimajo dvigal, parkirišč itd.)."
   ]
  },
  {
   "cell_type": "code",
   "execution_count": 24,
   "metadata": {},
   "outputs": [
    {
     "data": {
      "text/plain": [
       "<AxesSubplot:xlabel='leto'>"
      ]
     },
     "execution_count": 24,
     "metadata": {},
     "output_type": "execute_result"
    },
    {
     "data": {
      "image/png": "[encoded data removed]",
      "text/plain": [
       "<Figure size 1008x360 with 1 Axes>"
      ]
     },
     "metadata": {
      "needs_background": "light"
     },
     "output_type": "display_data"
    }
   ],
   "source": [
    "stanovanja_lj[stanovanja_lj.leto > 1800].groupby('leto').mean()[['cena_kvad']].plot(figsize=(14, 5))"
   ]
  },
  {
   "cell_type": "markdown",
   "metadata": {},
   "source": [
    "Analizirali smo stanovanja v mestni občini Ljubljana starejša od leta 1800. Glede na graf ne moremo sklepati o soodvisnosti najemnin in starosti stanovanj, vendar opazimo, da starejša stanovanja v povprečju niso cenejša kot novejša."
   ]
  },
  {
   "cell_type": "markdown",
   "metadata": {},
   "source": [
    "## Študentska stanovanja"
   ]
  },
  {
   "cell_type": "markdown",
   "metadata": {},
   "source": [
    "V Sloveniji je znano, da imajo študenti velike težave z iskanjem stanovanj. V tem poglavju želimo primerjati podatke o aktivnih oglasih študentskih stanovanj v primerjavi s slovenskim povprečjem.\n",
    "\n",
    "**OPOMBA:** Pri analizi upoštevamo, da trenutno zaradi epidemije ni veliko aktivnih oglasov namenjenim študentom ter da je študentom v splošnem na valojo več stanovanj v poletnih mesecih oz. po koncu študijskega obdobja."
   ]
  },
  {
   "cell_type": "code",
   "execution_count": 25,
   "metadata": {},
   "outputs": [],
   "source": [
    "stanovanja = pd.read_csv(\"obdelani-podatki\\podatki.csv\")\n",
    "studenti = pd.read_csv(\"obdelani-podatki\\studenti.csv\")"
   ]
  },
  {
   "cell_type": "markdown",
   "metadata": {},
   "source": [
    "V spodnji razpredelnici so razvrščeni podatki o stanovanjih, ki so na strani *nepremicnine.net* označena kot študentska stanovanja."
   ]
  },
  {
   "cell_type": "code",
   "execution_count": 26,
   "metadata": {},
   "outputs": [
    {
     "data": {
      "text/html": [
       "<div>\n",
       "<style scoped>\n",
       "    .dataframe tbody tr th:only-of-type {\n",
       "        vertical-align: middle;\n",
       "    }\n",
       "\n",
       "    .dataframe tbody tr th {\n",
       "        vertical-align: top;\n",
       "    }\n",
       "\n",
       "    .dataframe thead th {\n",
       "        text-align: right;\n",
       "    }\n",
       "</style>\n",
       "<table border=\"1\" class=\"dataframe\">\n",
       "  <thead>\n",
       "    <tr style=\"text-align: right;\">\n",
       "      <th></th>\n",
       "      <th>id</th>\n",
       "      <th>kvadratura</th>\n",
       "      <th>tip</th>\n",
       "      <th>leto</th>\n",
       "      <th>cena</th>\n",
       "      <th>regija</th>\n",
       "      <th>upravna</th>\n",
       "      <th>obcina</th>\n",
       "      <th>cena_kvad</th>\n",
       "      <th>cena_kvad_s</th>\n",
       "    </tr>\n",
       "  </thead>\n",
       "  <tbody>\n",
       "    <tr>\n",
       "      <th>0</th>\n",
       "      <td>6284832</td>\n",
       "      <td>30.0</td>\n",
       "      <td>garsonjera</td>\n",
       "      <td>1991</td>\n",
       "      <td>420.0</td>\n",
       "      <td>Gorenjska</td>\n",
       "      <td>Radovljica</td>\n",
       "      <td>Bled</td>\n",
       "      <td>14.0</td>\n",
       "      <td>14.0</td>\n",
       "    </tr>\n",
       "    <tr>\n",
       "      <th>1</th>\n",
       "      <td>6299045</td>\n",
       "      <td>22.0</td>\n",
       "      <td>soba</td>\n",
       "      <td>2018</td>\n",
       "      <td>200.0</td>\n",
       "      <td>Gorenjska</td>\n",
       "      <td>Radovljica</td>\n",
       "      <td>Bled</td>\n",
       "      <td>9.0</td>\n",
       "      <td>9.0</td>\n",
       "    </tr>\n",
       "    <tr>\n",
       "      <th>2</th>\n",
       "      <td>6317821</td>\n",
       "      <td>90.9</td>\n",
       "      <td>2-sobno</td>\n",
       "      <td>2008</td>\n",
       "      <td>12.0</td>\n",
       "      <td>Savinjska</td>\n",
       "      <td>Celje</td>\n",
       "      <td>Celje</td>\n",
       "      <td>0.0</td>\n",
       "      <td>0.0</td>\n",
       "    </tr>\n",
       "    <tr>\n",
       "      <th>3</th>\n",
       "      <td>6330616</td>\n",
       "      <td>10.0</td>\n",
       "      <td>soba</td>\n",
       "      <td>2019</td>\n",
       "      <td>150.0</td>\n",
       "      <td>LJ-okolica</td>\n",
       "      <td>Lj. J&amp;Z del (Vič, Rudnik)</td>\n",
       "      <td>Brezovica</td>\n",
       "      <td>15.0</td>\n",
       "      <td>15.0</td>\n",
       "    </tr>\n",
       "    <tr>\n",
       "      <th>4</th>\n",
       "      <td>6334909</td>\n",
       "      <td>38.0</td>\n",
       "      <td>1-sobno</td>\n",
       "      <td>2019</td>\n",
       "      <td>500.0</td>\n",
       "      <td>Gorenjska</td>\n",
       "      <td>Radovljica</td>\n",
       "      <td>Bled</td>\n",
       "      <td>13.0</td>\n",
       "      <td>13.0</td>\n",
       "    </tr>\n",
       "    <tr>\n",
       "      <th>5</th>\n",
       "      <td>6344063</td>\n",
       "      <td>28.0</td>\n",
       "      <td>garsonjera</td>\n",
       "      <td>1981</td>\n",
       "      <td>440.0</td>\n",
       "      <td>LJ-mesto</td>\n",
       "      <td>Lj. Bežigrad</td>\n",
       "      <td>Ljubljana</td>\n",
       "      <td>15.0</td>\n",
       "      <td>15.0</td>\n",
       "    </tr>\n",
       "    <tr>\n",
       "      <th>6</th>\n",
       "      <td>6347655</td>\n",
       "      <td>15.0</td>\n",
       "      <td>soba</td>\n",
       "      <td>2019</td>\n",
       "      <td>200.0</td>\n",
       "      <td>Savinjska</td>\n",
       "      <td>Celje</td>\n",
       "      <td>Celje</td>\n",
       "      <td>13.0</td>\n",
       "      <td>13.0</td>\n",
       "    </tr>\n",
       "    <tr>\n",
       "      <th>7</th>\n",
       "      <td>6356553</td>\n",
       "      <td>18.5</td>\n",
       "      <td>garsonjera</td>\n",
       "      <td>2017</td>\n",
       "      <td>320.0</td>\n",
       "      <td>LJ-mesto</td>\n",
       "      <td>Lj. Moste-Polje</td>\n",
       "      <td>Ljubljana</td>\n",
       "      <td>17.0</td>\n",
       "      <td>17.0</td>\n",
       "    </tr>\n",
       "    <tr>\n",
       "      <th>8</th>\n",
       "      <td>6359134</td>\n",
       "      <td>16.0</td>\n",
       "      <td>soba</td>\n",
       "      <td>2018</td>\n",
       "      <td>270.0</td>\n",
       "      <td>Gorenjska</td>\n",
       "      <td>Radovljica</td>\n",
       "      <td>Bled</td>\n",
       "      <td>16.0</td>\n",
       "      <td>16.0</td>\n",
       "    </tr>\n",
       "    <tr>\n",
       "      <th>9</th>\n",
       "      <td>6361896</td>\n",
       "      <td>80.3</td>\n",
       "      <td>3-sobno</td>\n",
       "      <td>1980</td>\n",
       "      <td>200.0</td>\n",
       "      <td>LJ-mesto</td>\n",
       "      <td>Lj. Bežigrad</td>\n",
       "      <td>Ljubljana</td>\n",
       "      <td>2.0</td>\n",
       "      <td>2.0</td>\n",
       "    </tr>\n",
       "    <tr>\n",
       "      <th>10</th>\n",
       "      <td>6365550</td>\n",
       "      <td>25.0</td>\n",
       "      <td>garsonjera</td>\n",
       "      <td>2018</td>\n",
       "      <td>400.0</td>\n",
       "      <td>Gorenjska</td>\n",
       "      <td>Radovljica</td>\n",
       "      <td>Bled</td>\n",
       "      <td>16.0</td>\n",
       "      <td>16.0</td>\n",
       "    </tr>\n",
       "    <tr>\n",
       "      <th>11</th>\n",
       "      <td>6365612</td>\n",
       "      <td>20.0</td>\n",
       "      <td>soba</td>\n",
       "      <td>2020</td>\n",
       "      <td>300.0</td>\n",
       "      <td>LJ-mesto</td>\n",
       "      <td>Lj. Moste-Polje</td>\n",
       "      <td>Ljubljana</td>\n",
       "      <td>15.0</td>\n",
       "      <td>15.0</td>\n",
       "    </tr>\n",
       "    <tr>\n",
       "      <th>12</th>\n",
       "      <td>6365973</td>\n",
       "      <td>16.0</td>\n",
       "      <td>soba</td>\n",
       "      <td>2014</td>\n",
       "      <td>250.0</td>\n",
       "      <td>LJ-mesto</td>\n",
       "      <td>Lj. Bežigrad</td>\n",
       "      <td>Ljubljana</td>\n",
       "      <td>15.0</td>\n",
       "      <td>15.0</td>\n",
       "    </tr>\n",
       "    <tr>\n",
       "      <th>13</th>\n",
       "      <td>6367424</td>\n",
       "      <td>25.0</td>\n",
       "      <td>1-sobno</td>\n",
       "      <td>2020</td>\n",
       "      <td>450.0</td>\n",
       "      <td>LJ-okolica</td>\n",
       "      <td>Lj. J&amp;Z del (Vič, Rudnik)</td>\n",
       "      <td>Brezovica</td>\n",
       "      <td>18.0</td>\n",
       "      <td>18.0</td>\n",
       "    </tr>\n",
       "    <tr>\n",
       "      <th>14</th>\n",
       "      <td>6368426</td>\n",
       "      <td>30.0</td>\n",
       "      <td>soba</td>\n",
       "      <td>1980</td>\n",
       "      <td>200.0</td>\n",
       "      <td>LJ-mesto</td>\n",
       "      <td>Lj. Bežigrad</td>\n",
       "      <td>Ljubljana</td>\n",
       "      <td>6.0</td>\n",
       "      <td>6.0</td>\n",
       "    </tr>\n",
       "    <tr>\n",
       "      <th>15</th>\n",
       "      <td>6368629</td>\n",
       "      <td>28.0</td>\n",
       "      <td>garsonjera</td>\n",
       "      <td>2016</td>\n",
       "      <td>450.0</td>\n",
       "      <td>LJ-mesto</td>\n",
       "      <td>Lj. Bežigrad</td>\n",
       "      <td>Ljubljana</td>\n",
       "      <td>16.0</td>\n",
       "      <td>16.0</td>\n",
       "    </tr>\n",
       "    <tr>\n",
       "      <th>16</th>\n",
       "      <td>6369405</td>\n",
       "      <td>35.0</td>\n",
       "      <td>1-sobno</td>\n",
       "      <td>2018</td>\n",
       "      <td>400.0</td>\n",
       "      <td>Gorenjska</td>\n",
       "      <td>Radovljica</td>\n",
       "      <td>Bled</td>\n",
       "      <td>11.0</td>\n",
       "      <td>11.0</td>\n",
       "    </tr>\n",
       "    <tr>\n",
       "      <th>17</th>\n",
       "      <td>6371025</td>\n",
       "      <td>13.0</td>\n",
       "      <td>soba</td>\n",
       "      <td>1974</td>\n",
       "      <td>160.0</td>\n",
       "      <td>LJ-mesto</td>\n",
       "      <td>Lj. Vič-Rudnik</td>\n",
       "      <td>Ljubljana</td>\n",
       "      <td>12.0</td>\n",
       "      <td>12.0</td>\n",
       "    </tr>\n",
       "    <tr>\n",
       "      <th>18</th>\n",
       "      <td>6371209</td>\n",
       "      <td>65.0</td>\n",
       "      <td>3-sobno</td>\n",
       "      <td>1995</td>\n",
       "      <td>600.0</td>\n",
       "      <td>LJ-mesto</td>\n",
       "      <td>Lj. Bežigrad</td>\n",
       "      <td>Ljubljana</td>\n",
       "      <td>9.0</td>\n",
       "      <td>9.0</td>\n",
       "    </tr>\n",
       "    <tr>\n",
       "      <th>19</th>\n",
       "      <td>6371375</td>\n",
       "      <td>11.0</td>\n",
       "      <td>soba</td>\n",
       "      <td>2020</td>\n",
       "      <td>250.0</td>\n",
       "      <td>LJ-mesto</td>\n",
       "      <td>Lj. Vič-Rudnik</td>\n",
       "      <td>Ljubljana</td>\n",
       "      <td>22.0</td>\n",
       "      <td>22.0</td>\n",
       "    </tr>\n",
       "    <tr>\n",
       "      <th>20</th>\n",
       "      <td>6371945</td>\n",
       "      <td>30.0</td>\n",
       "      <td>garsonjera</td>\n",
       "      <td>2018</td>\n",
       "      <td>450.0</td>\n",
       "      <td>Gorenjska</td>\n",
       "      <td>Radovljica</td>\n",
       "      <td>Bled</td>\n",
       "      <td>15.0</td>\n",
       "      <td>15.0</td>\n",
       "    </tr>\n",
       "    <tr>\n",
       "      <th>21</th>\n",
       "      <td>6372082</td>\n",
       "      <td>37.0</td>\n",
       "      <td>garsonjera</td>\n",
       "      <td>2019</td>\n",
       "      <td>320.0</td>\n",
       "      <td>Savinjska</td>\n",
       "      <td>Celje</td>\n",
       "      <td>Celje</td>\n",
       "      <td>8.0</td>\n",
       "      <td>8.0</td>\n",
       "    </tr>\n",
       "    <tr>\n",
       "      <th>22</th>\n",
       "      <td>6372316</td>\n",
       "      <td>15.0</td>\n",
       "      <td>soba</td>\n",
       "      <td>2013</td>\n",
       "      <td>210.0</td>\n",
       "      <td>LJ-mesto</td>\n",
       "      <td>Lj. Šiška</td>\n",
       "      <td>Ljubljana</td>\n",
       "      <td>14.0</td>\n",
       "      <td>14.0</td>\n",
       "    </tr>\n",
       "    <tr>\n",
       "      <th>23</th>\n",
       "      <td>6372644</td>\n",
       "      <td>45.0</td>\n",
       "      <td>1-sobno</td>\n",
       "      <td>2016</td>\n",
       "      <td>600.0</td>\n",
       "      <td>LJ-mesto</td>\n",
       "      <td>Lj. Bežigrad</td>\n",
       "      <td>Ljubljana</td>\n",
       "      <td>13.0</td>\n",
       "      <td>13.0</td>\n",
       "    </tr>\n",
       "    <tr>\n",
       "      <th>24</th>\n",
       "      <td>6372746</td>\n",
       "      <td>16.0</td>\n",
       "      <td>soba</td>\n",
       "      <td>2020</td>\n",
       "      <td>190.0</td>\n",
       "      <td>LJ-mesto</td>\n",
       "      <td>Lj. Vič-Rudnik</td>\n",
       "      <td>Ljubljana</td>\n",
       "      <td>11.0</td>\n",
       "      <td>11.0</td>\n",
       "    </tr>\n",
       "    <tr>\n",
       "      <th>25</th>\n",
       "      <td>6372801</td>\n",
       "      <td>30.0</td>\n",
       "      <td>1-sobno</td>\n",
       "      <td>2016</td>\n",
       "      <td>650.0</td>\n",
       "      <td>LJ-mesto</td>\n",
       "      <td>Lj. Bežigrad</td>\n",
       "      <td>Ljubljana</td>\n",
       "      <td>21.0</td>\n",
       "      <td>21.0</td>\n",
       "    </tr>\n",
       "    <tr>\n",
       "      <th>26</th>\n",
       "      <td>6373159</td>\n",
       "      <td>42.0</td>\n",
       "      <td>garsonjera</td>\n",
       "      <td>2019</td>\n",
       "      <td>500.0</td>\n",
       "      <td>Gorenjska</td>\n",
       "      <td>Radovljica</td>\n",
       "      <td>Bled</td>\n",
       "      <td>11.0</td>\n",
       "      <td>11.0</td>\n",
       "    </tr>\n",
       "    <tr>\n",
       "      <th>27</th>\n",
       "      <td>6373356</td>\n",
       "      <td>73.0</td>\n",
       "      <td>3-sobno</td>\n",
       "      <td>2002</td>\n",
       "      <td>900.0</td>\n",
       "      <td>LJ-mesto</td>\n",
       "      <td>Lj. Šiška</td>\n",
       "      <td>Ljubljana</td>\n",
       "      <td>12.0</td>\n",
       "      <td>12.0</td>\n",
       "    </tr>\n",
       "    <tr>\n",
       "      <th>28</th>\n",
       "      <td>6373573</td>\n",
       "      <td>13.0</td>\n",
       "      <td>soba</td>\n",
       "      <td>2020</td>\n",
       "      <td>230.0</td>\n",
       "      <td>LJ-mesto</td>\n",
       "      <td>Lj. Bežigrad</td>\n",
       "      <td>Ljubljana</td>\n",
       "      <td>17.0</td>\n",
       "      <td>17.0</td>\n",
       "    </tr>\n",
       "    <tr>\n",
       "      <th>29</th>\n",
       "      <td>6373718</td>\n",
       "      <td>43.0</td>\n",
       "      <td>garsonjera</td>\n",
       "      <td>2018</td>\n",
       "      <td>300.0</td>\n",
       "      <td>Gorenjska</td>\n",
       "      <td>Radovljica</td>\n",
       "      <td>Bled</td>\n",
       "      <td>6.0</td>\n",
       "      <td>6.0</td>\n",
       "    </tr>\n",
       "  </tbody>\n",
       "</table>\n",
       "</div>"
      ],
      "text/plain": [
       "         id  kvadratura         tip  leto   cena      regija  \\\n",
       "0   6284832        30.0  garsonjera  1991  420.0   Gorenjska   \n",
       "1   6299045        22.0        soba  2018  200.0   Gorenjska   \n",
       "2   6317821        90.9     2-sobno  2008   12.0   Savinjska   \n",
       "3   6330616        10.0        soba  2019  150.0  LJ-okolica   \n",
       "4   6334909        38.0     1-sobno  2019  500.0   Gorenjska   \n",
       "5   6344063        28.0  garsonjera  1981  440.0    LJ-mesto   \n",
       "6   6347655        15.0        soba  2019  200.0   Savinjska   \n",
       "7   6356553        18.5  garsonjera  2017  320.0    LJ-mesto   \n",
       "8   6359134        16.0        soba  2018  270.0   Gorenjska   \n",
       "9   6361896        80.3     3-sobno  1980  200.0    LJ-mesto   \n",
       "10  6365550        25.0  garsonjera  2018  400.0   Gorenjska   \n",
       "11  6365612        20.0        soba  2020  300.0    LJ-mesto   \n",
       "12  6365973        16.0        soba  2014  250.0    LJ-mesto   \n",
       "13  6367424        25.0     1-sobno  2020  450.0  LJ-okolica   \n",
       "14  6368426        30.0        soba  1980  200.0    LJ-mesto   \n",
       "15  6368629        28.0  garsonjera  2016  450.0    LJ-mesto   \n",
       "16  6369405        35.0     1-sobno  2018  400.0   Gorenjska   \n",
       "17  6371025        13.0        soba  1974  160.0    LJ-mesto   \n",
       "18  6371209        65.0     3-sobno  1995  600.0    LJ-mesto   \n",
       "19  6371375        11.0        soba  2020  250.0    LJ-mesto   \n",
       "20  6371945        30.0  garsonjera  2018  450.0   Gorenjska   \n",
       "21  6372082        37.0  garsonjera  2019  320.0   Savinjska   \n",
       "22  6372316        15.0        soba  2013  210.0    LJ-mesto   \n",
       "23  6372644        45.0     1-sobno  2016  600.0    LJ-mesto   \n",
       "24  6372746        16.0        soba  2020  190.0    LJ-mesto   \n",
       "25  6372801        30.0     1-sobno  2016  650.0    LJ-mesto   \n",
       "26  6373159        42.0  garsonjera  2019  500.0   Gorenjska   \n",
       "27  6373356        73.0     3-sobno  2002  900.0    LJ-mesto   \n",
       "28  6373573        13.0        soba  2020  230.0    LJ-mesto   \n",
       "29  6373718        43.0  garsonjera  2018  300.0   Gorenjska   \n",
       "\n",
       "                       upravna     obcina  cena_kvad  cena_kvad_s  \n",
       "0                   Radovljica       Bled       14.0         14.0  \n",
       "1                   Radovljica       Bled        9.0          9.0  \n",
       "2                        Celje      Celje        0.0          0.0  \n",
       "3    Lj. J&Z del (Vič, Rudnik)  Brezovica       15.0         15.0  \n",
       "4                   Radovljica       Bled       13.0         13.0  \n",
       "5                 Lj. Bežigrad  Ljubljana       15.0         15.0  \n",
       "6                        Celje      Celje       13.0         13.0  \n",
       "7              Lj. Moste-Polje  Ljubljana       17.0         17.0  \n",
       "8                   Radovljica       Bled       16.0         16.0  \n",
       "9                 Lj. Bežigrad  Ljubljana        2.0          2.0  \n",
       "10                  Radovljica       Bled       16.0         16.0  \n",
       "11             Lj. Moste-Polje  Ljubljana       15.0         15.0  \n",
       "12                Lj. Bežigrad  Ljubljana       15.0         15.0  \n",
       "13   Lj. J&Z del (Vič, Rudnik)  Brezovica       18.0         18.0  \n",
       "14                Lj. Bežigrad  Ljubljana        6.0          6.0  \n",
       "15                Lj. Bežigrad  Ljubljana       16.0         16.0  \n",
       "16                  Radovljica       Bled       11.0         11.0  \n",
       "17              Lj. Vič-Rudnik  Ljubljana       12.0         12.0  \n",
       "18                Lj. Bežigrad  Ljubljana        9.0          9.0  \n",
       "19              Lj. Vič-Rudnik  Ljubljana       22.0         22.0  \n",
       "20                  Radovljica       Bled       15.0         15.0  \n",
       "21                       Celje      Celje        8.0          8.0  \n",
       "22                   Lj. Šiška  Ljubljana       14.0         14.0  \n",
       "23                Lj. Bežigrad  Ljubljana       13.0         13.0  \n",
       "24              Lj. Vič-Rudnik  Ljubljana       11.0         11.0  \n",
       "25                Lj. Bežigrad  Ljubljana       21.0         21.0  \n",
       "26                  Radovljica       Bled       11.0         11.0  \n",
       "27                   Lj. Šiška  Ljubljana       12.0         12.0  \n",
       "28                Lj. Bežigrad  Ljubljana       17.0         17.0  \n",
       "29                  Radovljica       Bled        6.0          6.0  "
      ]
     },
     "execution_count": 26,
     "metadata": {},
     "output_type": "execute_result"
    }
   ],
   "source": [
    "stanovanja['cena_kvad'] = (stanovanja.cena) // stanovanja.kvadratura\n",
    "studentska_stanovanja = pd.merge(stanovanja, studenti)\n",
    "studentska_stanovanja['cena_kvad_s'] = (studentska_stanovanja.cena // studentska_stanovanja.kvadratura)\n",
    "studentska_stanovanja"
   ]
  },
  {
   "cell_type": "code",
   "execution_count": 27,
   "metadata": {},
   "outputs": [
    {
     "data": {
      "text/plain": [
       "13.0"
      ]
     },
     "execution_count": 27,
     "metadata": {},
     "output_type": "execute_result"
    }
   ],
   "source": [
    "sum(studentska_stanovanja.cena_kvad) // 29"
   ]
  },
  {
   "cell_type": "markdown",
   "metadata": {},
   "source": [
    "Povprečna najemnina na kvadratni meter za študentsko stanovanja **13€**. To je nad slovenskim povprečjem (**11€ / $m^2$**) in ekvivalentno povprečni ceni v Ljubljani, kljub temu da niso vsa stanovanja iz ljubljanske regije. To pomeni, da so cene študentskih stanovanj v samem vrhu slovenskih najemnin."
   ]
  },
  {
   "cell_type": "markdown",
   "metadata": {},
   "source": [
    "Podatke o študentskih stanovanjih imamo za naslednje regije: Ljubljana(mesto), Ljubljana(okolica), Gorenjska, Savinjska.\n",
    "\n",
    "Kot smo ugotovili v prvem razdelku se najemnine po regijah močno razlikujejo. Zato bomo za vsako regijo posebaj primerjali povprečno ceno vseh stanovanj ter povprečno ceno študentskih stanovanj."
   ]
  },
  {
   "cell_type": "code",
   "execution_count": 28,
   "metadata": {},
   "outputs": [
    {
     "data": {
      "image/png": "[encoded data removed]",
      "text/plain": [
       "<Figure size 1008x360 with 1 Axes>"
      ]
     },
     "metadata": {
      "needs_background": "light"
     },
     "output_type": "display_data"
    }
   ],
   "source": [
    "ax = po_regijah_stud = studentska_stanovanja.groupby('regija').mean()[['cena_kvad_s']].plot.bar(color='Orange', align='edge', width=0.3, edgecolor='Black')\n",
    "po_regijah = stanovanja[(stanovanja.regija == 'LJ-mesto') | (stanovanja.regija == 'Gorenjska') | (stanovanja.regija == 'Savinjska') | (stanovanja.regija == 'LJ-okolica')].groupby('regija').mean()[['cena_kvad']].plot.bar(color='LightBlue', ax = ax, figsize=(14, 5), width=0.3, edgecolor='Black')"
   ]
  },
  {
   "cell_type": "markdown",
   "metadata": {},
   "source": [
    "Iz grafa je razvidno, da so najemnine študentskih stanovanj (*oranžno*) v prav vseh regijah višje kot povprečna stanovanja (*modro*). Največja razlika je v okolici Ljubljane. "
   ]
  },
  {
   "cell_type": "markdown",
   "metadata": {},
   "source": [
    "Razlog za to, da lahko najemodajalci oddajajo stanovanja študentom po tako visokih cenah, je v tem, da je večina pogodb sklenjenih na študenta in ne na gospodinjstvo. To pomeni, da so na primer 4 študentje pripravljeni plačati skupaj več kot običajna štiričlanska družina."
   ]
  },
  {
   "cell_type": "markdown",
   "metadata": {},
   "source": [
    "## Povzetek\n",
    "Na višino najemnin vplivajo različni dejavniki, največji vpliv pa imajo regije. Po višini najemnin vidno izstopata obalna in ljubljanska regija, v katerih je tudi največja ponudba oddaje stanovanj. Po velikosti stanovanj so na vrhu tista iz severno primorske in ljubljanske regije, med manjšimi pa se zaradi vpliva turizma pojavljajo stanovanja v južno primorski regiji ter v koroški in notranjski.\n",
    "\n",
    "V nadaljni analizi smo obravnavali stanovanja v Ljubljani. Ugotovili smo, da je največ ponudbe za 2 in 3-sobna stanovanja ter za sobe in garsonjere. Slednje se oddajajo tudi po najvišjih cenah, kar je v povezavi z njihovo namembnostjo (predpostavili smo, da se sobe in garsonjere oddajajo predvsem študentom) v nasprotju z našo predpostavko.\n",
    "\n",
    "Posledično smo se dotaknili še problematike glede visokih cen študentskih stanovanj. Potrdili smo hipotezo, ki pravi da se študentska stanovanja v večini oddajajo za višje najemnine kot običajna stanovanja."
   ]
  }
 ],
 "metadata": {
  "kernelspec": {
   "display_name": "Python 3",
   "language": "python",
   "name": "python3"
  },
  "language_info": {
   "codemirror_mode": {
    "name": "ipython",
    "version": 3
   },
   "file_extension": ".py",
   "mimetype": "text/x-python",
   "name": "python",
   "nbconvert_exporter": "python",
   "pygments_lexer": "ipython3",
   "version": "3.8.1"
  }
 },
 "nbformat": 4,
 "nbformat_minor": 4
}
